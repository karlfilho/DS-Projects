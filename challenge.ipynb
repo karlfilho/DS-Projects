{
 "cells": [
  {
   "cell_type": "markdown",
   "metadata": {},
   "source": [
    "# Module 1 Challenge - XPe Data Architect postgraduate program\n",
    "by Karl Richard Busse Filho\n",
    "\n",
    "Challenge proposed within module 1 of the Data Architect postgraduate program.\n",
    "\n",
    "## Problem\n",
    "In a dynamic recruitment scenario, an experienced talent manager realizes the need to improve candidate selection strategies. With the aim of exploring the nuances between professional experience and salaries in various sectors, the manager has taken the initiative to hire a Big Data specialist. Instead of using a linear approach, we will now focus on clustering techniques to enhance the effectiveness of the recruitment process.\n",
    "\n",
    "In a reality where diversity of professional profiles is the norm, our recruitment manager faces the challenge of understanding complex patterns that go beyond linearity. They seek to understand not only the correlation between experience and salary but also to identify specific groups of candidates who share similar characteristics.\n",
    "\n",
    "Therefore, instead of a linear regression approach, the Big Data architect will be responsible for creating a clustering model using the K-Means algorithm. This model will segment candidates into distinct groups based on their professional experience and associated salaries.\n",
    "\n",
    "**Proposed Categories**\n",
    "- **Beginner**: candidates with a low number of months worked. Initial and entry-level salaries.\n",
    "- **Intermediate**: candidates with a moderate number of months worked. Salaries corresponding to intermediate experience.\n",
    "- **Experienced**: candidates with extensive months of experience. Higher salaries reflecting accumulated experience.\n",
    "\n",
    "Unlike the previous linear model, which anticipated individual salaries, the clustering model will seek to group candidates with common characteristics into one of the proposed categories. The goal is to create broader and more understandable categories, facilitating a more strategic and personalized approach to recruitment.\n",
    "\n",
    "This project aims not only to understand the relationship between experience and salary but also to transform this understanding into concrete recruitment actions. By transitioning from a linear approach to clustering, our intention is to create a more dynamic and adaptable environment, enabling the recruitment manager to make more strategic and effective decisions. This new approach offers the promise of more accurate candidate selection aligned with the unique needs of each sector.\n",
    "\n",
    "## Instructions\n",
    "1. Collect and insert the files into the platform.\n",
    "2. Analyze the collected data.\n",
    "3. Evaluate the correlation between the variables.\n",
    "4. Create a k-means algorithm with the following configurations: `random_state=0` and `init='k-means++'`.\n",
    "5. Answer the theoretical and practical questions of the assignment.\n",
    "6. Perform customer segmentation.\n",
    "7. Analyze the data according to the created clusters.\n",
    "\n",
    "## Disclaimer\n",
    "- The data provided in the dataset is fictional and does not have any relation to the real world."
   ]
  },
  {
   "cell_type": "markdown",
   "metadata": {},
   "source": [
    "# 1. Setup"
   ]
  },
  {
   "cell_type": "markdown",
   "metadata": {},
   "source": [
    "## Importing necessary packages"
   ]
  },
  {
   "cell_type": "code",
   "execution_count": 1,
   "metadata": {},
   "outputs": [],
   "source": [
    "import pandas as pd\n",
    "import matplotlib.pyplot as plt\n",
    "import seaborn as sns\n",
    "import numpy as np\n",
    "from IPython.display import display\n",
    "from sklearn.cluster import KMeans\n",
    "from sklearn.preprocessing import StandardScaler\n",
    "import plotly.express as px\n",
    "import plotly.graph_objects as go"
   ]
  },
  {
   "cell_type": "markdown",
   "metadata": {},
   "source": [
    "## Loading datasets"
   ]
  },
  {
   "cell_type": "code",
   "execution_count": 2,
   "metadata": {},
   "outputs": [
    {
     "data": {
      "text/html": [
       "<div>\n",
       "<style scoped>\n",
       "    .dataframe tbody tr th:only-of-type {\n",
       "        vertical-align: middle;\n",
       "    }\n",
       "\n",
       "    .dataframe tbody tr th {\n",
       "        vertical-align: top;\n",
       "    }\n",
       "\n",
       "    .dataframe thead th {\n",
       "        text-align: right;\n",
       "    }\n",
       "</style>\n",
       "<table border=\"1\" class=\"dataframe\">\n",
       "  <thead>\n",
       "    <tr style=\"text-align: right;\">\n",
       "      <th></th>\n",
       "      <th>id_cliente</th>\n",
       "      <th>peso</th>\n",
       "      <th>colesterol</th>\n",
       "      <th>genero</th>\n",
       "      <th>id_estado</th>\n",
       "    </tr>\n",
       "  </thead>\n",
       "  <tbody>\n",
       "    <tr>\n",
       "      <th>0</th>\n",
       "      <td>1</td>\n",
       "      <td>102.0</td>\n",
       "      <td>111</td>\n",
       "      <td>Masculino</td>\n",
       "      <td>23</td>\n",
       "    </tr>\n",
       "    <tr>\n",
       "      <th>1</th>\n",
       "      <td>2</td>\n",
       "      <td>115.0</td>\n",
       "      <td>135</td>\n",
       "      <td>Masculino</td>\n",
       "      <td>7</td>\n",
       "    </tr>\n",
       "    <tr>\n",
       "      <th>2</th>\n",
       "      <td>3</td>\n",
       "      <td>115.0</td>\n",
       "      <td>136</td>\n",
       "      <td>Masculino</td>\n",
       "      <td>4</td>\n",
       "    </tr>\n",
       "    <tr>\n",
       "      <th>3</th>\n",
       "      <td>4</td>\n",
       "      <td>140.0</td>\n",
       "      <td>167</td>\n",
       "      <td>Feminino</td>\n",
       "      <td>24</td>\n",
       "    </tr>\n",
       "    <tr>\n",
       "      <th>4</th>\n",
       "      <td>5</td>\n",
       "      <td>130.0</td>\n",
       "      <td>158</td>\n",
       "      <td>Masculino</td>\n",
       "      <td>26</td>\n",
       "    </tr>\n",
       "  </tbody>\n",
       "</table>\n",
       "</div>"
      ],
      "text/plain": [
       "   id_cliente   peso  colesterol     genero  id_estado\n",
       "0           1  102.0         111  Masculino         23\n",
       "1           2  115.0         135  Masculino          7\n",
       "2           3  115.0         136  Masculino          4\n",
       "3           4  140.0         167   Feminino         24\n",
       "4           5  130.0         158  Masculino         26"
      ]
     },
     "metadata": {},
     "output_type": "display_data"
    }
   ],
   "source": [
    "path = \"C:\\\\Users\\\\karlf\\\\Downloads\\\\dados_pessoais.xlsx\"\n",
    "\n",
    "clients = pd.read_excel(path, dtype={'genero':'category'})\n",
    "display(clients.head())"
   ]
  },
  {
   "cell_type": "code",
   "execution_count": 3,
   "metadata": {},
   "outputs": [
    {
     "data": {
      "text/html": [
       "<div>\n",
       "<style scoped>\n",
       "    .dataframe tbody tr th:only-of-type {\n",
       "        vertical-align: middle;\n",
       "    }\n",
       "\n",
       "    .dataframe tbody tr th {\n",
       "        vertical-align: top;\n",
       "    }\n",
       "\n",
       "    .dataframe thead th {\n",
       "        text-align: right;\n",
       "    }\n",
       "</style>\n",
       "<table border=\"1\" class=\"dataframe\">\n",
       "  <thead>\n",
       "    <tr style=\"text-align: right;\">\n",
       "      <th></th>\n",
       "      <th>id_estado</th>\n",
       "      <th>estado</th>\n",
       "      <th>sigla_estado</th>\n",
       "      <th>pais</th>\n",
       "    </tr>\n",
       "  </thead>\n",
       "  <tbody>\n",
       "    <tr>\n",
       "      <th>0</th>\n",
       "      <td>1</td>\n",
       "      <td>Acre</td>\n",
       "      <td>ac</td>\n",
       "      <td>Brasil</td>\n",
       "    </tr>\n",
       "    <tr>\n",
       "      <th>1</th>\n",
       "      <td>2</td>\n",
       "      <td>Alagoas</td>\n",
       "      <td>al</td>\n",
       "      <td>Brasil</td>\n",
       "    </tr>\n",
       "    <tr>\n",
       "      <th>2</th>\n",
       "      <td>3</td>\n",
       "      <td>Amapá</td>\n",
       "      <td>ap</td>\n",
       "      <td>Brasil</td>\n",
       "    </tr>\n",
       "    <tr>\n",
       "      <th>3</th>\n",
       "      <td>4</td>\n",
       "      <td>Amazonas</td>\n",
       "      <td>am</td>\n",
       "      <td>Brasil</td>\n",
       "    </tr>\n",
       "    <tr>\n",
       "      <th>4</th>\n",
       "      <td>5</td>\n",
       "      <td>Bahia</td>\n",
       "      <td>ba</td>\n",
       "      <td>Brasil</td>\n",
       "    </tr>\n",
       "  </tbody>\n",
       "</table>\n",
       "</div>"
      ],
      "text/plain": [
       "   id_estado    estado sigla_estado    pais\n",
       "0          1      Acre           ac  Brasil\n",
       "1          2   Alagoas           al  Brasil\n",
       "2          3     Amapá           ap  Brasil\n",
       "3          4  Amazonas           am  Brasil\n",
       "4          5     Bahia           ba  Brasil"
      ]
     },
     "metadata": {},
     "output_type": "display_data"
    }
   ],
   "source": [
    "path = \"C:\\\\Users\\\\karlf\\\\Downloads\\\\estados_brasileiros.csv\"\n",
    "\n",
    "states = pd.read_csv(path, delimiter=';', encoding='Latin-1')\n",
    "display(states.head())"
   ]
  },
  {
   "cell_type": "code",
   "execution_count": 4,
   "metadata": {},
   "outputs": [
    {
     "data": {
      "text/html": [
       "<div>\n",
       "<style scoped>\n",
       "    .dataframe tbody tr th:only-of-type {\n",
       "        vertical-align: middle;\n",
       "    }\n",
       "\n",
       "    .dataframe tbody tr th {\n",
       "        vertical-align: top;\n",
       "    }\n",
       "\n",
       "    .dataframe thead th {\n",
       "        text-align: right;\n",
       "    }\n",
       "</style>\n",
       "<table border=\"1\" class=\"dataframe\">\n",
       "  <thead>\n",
       "    <tr style=\"text-align: right;\">\n",
       "      <th></th>\n",
       "      <th>id_cliente</th>\n",
       "      <th>idade</th>\n",
       "    </tr>\n",
       "  </thead>\n",
       "  <tbody>\n",
       "    <tr>\n",
       "      <th>0</th>\n",
       "      <td>1</td>\n",
       "      <td>17</td>\n",
       "    </tr>\n",
       "    <tr>\n",
       "      <th>1</th>\n",
       "      <td>2</td>\n",
       "      <td>28</td>\n",
       "    </tr>\n",
       "    <tr>\n",
       "      <th>2</th>\n",
       "      <td>3</td>\n",
       "      <td>62</td>\n",
       "    </tr>\n",
       "    <tr>\n",
       "      <th>3</th>\n",
       "      <td>4</td>\n",
       "      <td>55</td>\n",
       "    </tr>\n",
       "    <tr>\n",
       "      <th>4</th>\n",
       "      <td>5</td>\n",
       "      <td>44</td>\n",
       "    </tr>\n",
       "  </tbody>\n",
       "</table>\n",
       "</div>"
      ],
      "text/plain": [
       "   id_cliente  idade\n",
       "0           1     17\n",
       "1           2     28\n",
       "2           3     62\n",
       "3           4     55\n",
       "4           5     44"
      ]
     },
     "metadata": {},
     "output_type": "display_data"
    }
   ],
   "source": [
    "path = \"C:\\\\Users\\\\karlf\\\\Downloads\\\\idade_clientes.csv\"\n",
    "\n",
    "age = pd.read_csv(path, delimiter=';', encoding='Latin-1')\n",
    "display(age.head())"
   ]
  },
  {
   "cell_type": "code",
   "execution_count": 5,
   "metadata": {},
   "outputs": [
    {
     "name": "stdout",
     "output_type": "stream",
     "text": [
      "   id_cliente  experiencia    salario\n",
      "0           1    18.290293  16.521825\n",
      "1           2    17.023407  11.666234\n",
      "2           3    26.343613  23.167255\n",
      "3           4    19.105834  20.877145\n",
      "4           5    27.742516  23.166236\n"
     ]
    }
   ],
   "source": [
    "path = \"C:\\\\Users\\\\karlf\\\\Downloads\\\\Experience-Salary.csv\"\n",
    "col_names = ['id_cliente', 'experiencia', 'salario']\n",
    "\n",
    "salary = pd.read_csv(path, skiprows=1, names=col_names)\n",
    "print(salary.head())"
   ]
  },
  {
   "cell_type": "markdown",
   "metadata": {},
   "source": [
    "### Datasets dictionaries\n",
    "\n",
    "**`clients` dataframe**\n",
    "- `id_cliente`: integer, registry key for clients.\n",
    "- `peso`: float, weight in kilograms (kg).\n",
    "- `colesterol`: float, serum cholesterol in mg/dL.\n",
    "- `genero`: category, client genre; 'Masculino' is male and 'Feminino' is female.\n",
    "- `id_estado`: integer, registry code for brazilian states.\n",
    "\n",
    "**`states` dataframe**\n",
    "- `id_estado`: integer, registry code for brazilian states.\n",
    "- `estado`: string, state name.\n",
    "- `sigla_estado`: string, state abbreviation.\n",
    "- `pais`: string, literally means 'country' and its only value is 'Brasil'; will be dropped and substituted for `region` later.\n",
    "\n",
    "**`age` dataframe**\n",
    "- `id_cliente`: integer, registry key for clients.\n",
    "- `idade`: integer, means 'age'. \n",
    "\n",
    "**`salary` dataframe**\n",
    "- `id_cliente`: integer,  registry key for clients.\n",
    "- `experiencia`: float, experience in months.\n",
    "- `salario`: float, salary in thousands of USD."
   ]
  },
  {
   "cell_type": "markdown",
   "metadata": {},
   "source": [
    "## Data cleaning, validating and joining"
   ]
  },
  {
   "cell_type": "markdown",
   "metadata": {},
   "source": [
    "### `clients` dataframe"
   ]
  },
  {
   "cell_type": "code",
   "execution_count": 6,
   "metadata": {},
   "outputs": [
    {
     "name": "stdout",
     "output_type": "stream",
     "text": [
      "<class 'pandas.core.frame.DataFrame'>\n",
      "RangeIndex: 547 entries, 0 to 546\n",
      "Data columns (total 5 columns):\n",
      " #   Column      Non-Null Count  Dtype   \n",
      "---  ------      --------------  -----   \n",
      " 0   id_cliente  547 non-null    int64   \n",
      " 1   peso        542 non-null    float64 \n",
      " 2   colesterol  547 non-null    int64   \n",
      " 3   genero      547 non-null    category\n",
      " 4   id_estado   547 non-null    int64   \n",
      "dtypes: category(1), float64(1), int64(3)\n",
      "memory usage: 17.9 KB\n"
     ]
    },
    {
     "data": {
      "text/plain": [
       "None"
      ]
     },
     "metadata": {},
     "output_type": "display_data"
    }
   ],
   "source": [
    "# Basic info\n",
    "display(clients.info())"
   ]
  },
  {
   "cell_type": "code",
   "execution_count": 7,
   "metadata": {},
   "outputs": [
    {
     "data": {
      "text/plain": [
       "id_cliente    0\n",
       "peso          5\n",
       "colesterol    0\n",
       "genero        0\n",
       "id_estado     0\n",
       "dtype: int64"
      ]
     },
     "execution_count": 7,
     "metadata": {},
     "output_type": "execute_result"
    }
   ],
   "source": [
    "# Checking for null values\n",
    "clients.isna().sum()"
   ]
  },
  {
   "cell_type": "code",
   "execution_count": 8,
   "metadata": {},
   "outputs": [
    {
     "data": {
      "text/plain": [
       "id_cliente    0\n",
       "peso          0\n",
       "colesterol    0\n",
       "genero        0\n",
       "id_estado     0\n",
       "dtype: int64"
      ]
     },
     "execution_count": 8,
     "metadata": {},
     "output_type": "execute_result"
    }
   ],
   "source": [
    "# Fixing null values\n",
    "## Earlier my teacher instructed to use the median to fix null numeric variables.\n",
    "peso_median = clients['peso'].median()\n",
    "\n",
    "clients['peso'].fillna(peso_median, inplace=True)\n",
    "clients.isna().sum()"
   ]
  },
  {
   "cell_type": "code",
   "execution_count": 9,
   "metadata": {},
   "outputs": [
    {
     "name": "stdout",
     "output_type": "stream",
     "text": [
      "Empty DataFrame\n",
      "Columns: [id_cliente, peso, colesterol, genero, id_estado]\n",
      "Index: []\n"
     ]
    }
   ],
   "source": [
    "# Checking for duplicate values\n",
    "duplicated_id = clients['id_cliente'].duplicated()\n",
    "print(clients[duplicated_id])"
   ]
  },
  {
   "cell_type": "code",
   "execution_count": 10,
   "metadata": {},
   "outputs": [
    {
     "data": {
      "text/plain": [
       "count    547.000000\n",
       "mean     143.409506\n",
       "std       30.697098\n",
       "min       95.000000\n",
       "25%      116.000000\n",
       "50%      140.000000\n",
       "75%      171.000000\n",
       "max      203.000000\n",
       "Name: peso, dtype: float64"
      ]
     },
     "execution_count": 10,
     "metadata": {},
     "output_type": "execute_result"
    }
   ],
   "source": [
    "# Validating `peso` column\n",
    "clients['peso'].describe()\n",
    "\n",
    "## - Although a max weight of 203 kg (447.54 lb) seems unlikely, it is still plausible.\n",
    "## - We are probably dealing with fat people."
   ]
  },
  {
   "cell_type": "code",
   "execution_count": 11,
   "metadata": {},
   "outputs": [
    {
     "data": {
      "text/plain": [
       "count    547.000000\n",
       "mean     170.433272\n",
       "std       39.147189\n",
       "min      102.000000\n",
       "25%      136.000000\n",
       "50%      169.000000\n",
       "75%      208.000000\n",
       "max      235.000000\n",
       "Name: colesterol, dtype: float64"
      ]
     },
     "execution_count": 11,
     "metadata": {},
     "output_type": "execute_result"
    }
   ],
   "source": [
    "# Validating `colesterol` column\n",
    "clients['colesterol'].describe()"
   ]
  },
  {
   "cell_type": "code",
   "execution_count": 12,
   "metadata": {},
   "outputs": [
    {
     "data": {
      "text/plain": [
       "count           547\n",
       "unique            2\n",
       "top       Masculino\n",
       "freq            281\n",
       "Name: genero, dtype: object"
      ]
     },
     "metadata": {},
     "output_type": "display_data"
    },
    {
     "data": {
      "text/plain": [
       "['Masculino', 'Feminino']\n",
       "Categories (2, object): ['Feminino', 'Masculino']"
      ]
     },
     "metadata": {},
     "output_type": "display_data"
    },
    {
     "data": {
      "text/plain": [
       "CategoricalDtype(categories=['Feminino', 'Masculino'], ordered=False)"
      ]
     },
     "execution_count": 12,
     "metadata": {},
     "output_type": "execute_result"
    }
   ],
   "source": [
    "# Validating `genero` column\n",
    "display(clients['genero'].describe())\n",
    "display(clients['genero'].unique())\n",
    "clients['genero'].dtype"
   ]
  },
  {
   "cell_type": "code",
   "execution_count": 13,
   "metadata": {},
   "outputs": [
    {
     "data": {
      "text/plain": [
       "27"
      ]
     },
     "execution_count": 13,
     "metadata": {},
     "output_type": "execute_result"
    }
   ],
   "source": [
    "# Validating `id_estado` column\n",
    "clients['id_estado'].nunique()"
   ]
  },
  {
   "cell_type": "markdown",
   "metadata": {},
   "source": [
    "### `states` dataframe"
   ]
  },
  {
   "cell_type": "code",
   "execution_count": 14,
   "metadata": {},
   "outputs": [
    {
     "name": "stdout",
     "output_type": "stream",
     "text": [
      "<class 'pandas.core.frame.DataFrame'>\n",
      "RangeIndex: 27 entries, 0 to 26\n",
      "Data columns (total 4 columns):\n",
      " #   Column        Non-Null Count  Dtype \n",
      "---  ------        --------------  ----- \n",
      " 0   id_estado     27 non-null     int64 \n",
      " 1   estado        27 non-null     object\n",
      " 2   sigla_estado  27 non-null     object\n",
      " 3   pais          25 non-null     object\n",
      "dtypes: int64(1), object(3)\n",
      "memory usage: 996.0+ bytes\n"
     ]
    }
   ],
   "source": [
    "# Basic info\n",
    "states.info()"
   ]
  },
  {
   "cell_type": "code",
   "execution_count": 15,
   "metadata": {},
   "outputs": [
    {
     "data": {
      "text/plain": [
       "id_estado       0\n",
       "estado          0\n",
       "sigla_estado    0\n",
       "pais            2\n",
       "dtype: int64"
      ]
     },
     "execution_count": 15,
     "metadata": {},
     "output_type": "execute_result"
    }
   ],
   "source": [
    "# Checking for null values\n",
    "states.isna().sum()"
   ]
  },
  {
   "cell_type": "code",
   "execution_count": 16,
   "metadata": {},
   "outputs": [
    {
     "data": {
      "text/html": [
       "<div>\n",
       "<style scoped>\n",
       "    .dataframe tbody tr th:only-of-type {\n",
       "        vertical-align: middle;\n",
       "    }\n",
       "\n",
       "    .dataframe tbody tr th {\n",
       "        vertical-align: top;\n",
       "    }\n",
       "\n",
       "    .dataframe thead th {\n",
       "        text-align: right;\n",
       "    }\n",
       "</style>\n",
       "<table border=\"1\" class=\"dataframe\">\n",
       "  <thead>\n",
       "    <tr style=\"text-align: right;\">\n",
       "      <th></th>\n",
       "      <th>id_estado</th>\n",
       "      <th>estado</th>\n",
       "      <th>sigla_estado</th>\n",
       "      <th>pais</th>\n",
       "    </tr>\n",
       "  </thead>\n",
       "  <tbody>\n",
       "  </tbody>\n",
       "</table>\n",
       "</div>"
      ],
      "text/plain": [
       "Empty DataFrame\n",
       "Columns: [id_estado, estado, sigla_estado, pais]\n",
       "Index: []"
      ]
     },
     "metadata": {},
     "output_type": "display_data"
    },
    {
     "data": {
      "text/html": [
       "<div>\n",
       "<style scoped>\n",
       "    .dataframe tbody tr th:only-of-type {\n",
       "        vertical-align: middle;\n",
       "    }\n",
       "\n",
       "    .dataframe tbody tr th {\n",
       "        vertical-align: top;\n",
       "    }\n",
       "\n",
       "    .dataframe thead th {\n",
       "        text-align: right;\n",
       "    }\n",
       "</style>\n",
       "<table border=\"1\" class=\"dataframe\">\n",
       "  <thead>\n",
       "    <tr style=\"text-align: right;\">\n",
       "      <th></th>\n",
       "      <th>id_estado</th>\n",
       "      <th>estado</th>\n",
       "      <th>sigla_estado</th>\n",
       "      <th>pais</th>\n",
       "    </tr>\n",
       "  </thead>\n",
       "  <tbody>\n",
       "  </tbody>\n",
       "</table>\n",
       "</div>"
      ],
      "text/plain": [
       "Empty DataFrame\n",
       "Columns: [id_estado, estado, sigla_estado, pais]\n",
       "Index: []"
      ]
     },
     "metadata": {},
     "output_type": "display_data"
    },
    {
     "data": {
      "text/html": [
       "<div>\n",
       "<style scoped>\n",
       "    .dataframe tbody tr th:only-of-type {\n",
       "        vertical-align: middle;\n",
       "    }\n",
       "\n",
       "    .dataframe tbody tr th {\n",
       "        vertical-align: top;\n",
       "    }\n",
       "\n",
       "    .dataframe thead th {\n",
       "        text-align: right;\n",
       "    }\n",
       "</style>\n",
       "<table border=\"1\" class=\"dataframe\">\n",
       "  <thead>\n",
       "    <tr style=\"text-align: right;\">\n",
       "      <th></th>\n",
       "      <th>id_estado</th>\n",
       "      <th>estado</th>\n",
       "      <th>sigla_estado</th>\n",
       "      <th>pais</th>\n",
       "    </tr>\n",
       "  </thead>\n",
       "  <tbody>\n",
       "  </tbody>\n",
       "</table>\n",
       "</div>"
      ],
      "text/plain": [
       "Empty DataFrame\n",
       "Columns: [id_estado, estado, sigla_estado, pais]\n",
       "Index: []"
      ]
     },
     "metadata": {},
     "output_type": "display_data"
    }
   ],
   "source": [
    "# Checking for duplicated values\n",
    "display(states[states.id_estado.duplicated()])\n",
    "display(states[states.estado.duplicated()])\n",
    "display(states[states.sigla_estado.duplicated()])"
   ]
  },
  {
   "cell_type": "code",
   "execution_count": 17,
   "metadata": {},
   "outputs": [
    {
     "data": {
      "text/plain": [
       "27"
      ]
     },
     "execution_count": 17,
     "metadata": {},
     "output_type": "execute_result"
    }
   ],
   "source": [
    "# Validating `id_estado` column\n",
    "states['id_estado'].nunique()\n",
    "\n",
    "## expected output: 27"
   ]
  },
  {
   "cell_type": "code",
   "execution_count": 18,
   "metadata": {},
   "outputs": [
    {
     "data": {
      "text/plain": [
       "count       27\n",
       "unique      27\n",
       "top       Acre\n",
       "freq         1\n",
       "Name: estado, dtype: object"
      ]
     },
     "metadata": {},
     "output_type": "display_data"
    },
    {
     "data": {
      "text/plain": [
       "array(['Acre', 'Alagoas', 'Amapá', 'Amazonas', 'Bahia', 'Ceará',\n",
       "       'Distrito Federal', 'Espírito Santo', 'Goiás', 'Maranhão',\n",
       "       'Mato Grosso', 'Mato Grosso do Sul', 'Minas Gerais', 'Pará',\n",
       "       'Paraíba', 'Paraná', 'Pernambuco', 'Piauí', 'Rio de Janeiro',\n",
       "       'Rio Grande do Norte', 'Rio Grande do Sul', 'Rondônia', 'Roraima',\n",
       "       'Santa Catarina', 'São Paulo', 'Sergipe', 'Tocantins'],\n",
       "      dtype=object)"
      ]
     },
     "metadata": {},
     "output_type": "display_data"
    }
   ],
   "source": [
    "# Validating `estado` column\n",
    "display(states['estado'].describe())\n",
    "display(states['estado'].unique())\n",
    "\n",
    "## expected output: 27 unique"
   ]
  },
  {
   "cell_type": "code",
   "execution_count": 19,
   "metadata": {},
   "outputs": [
    {
     "data": {
      "text/plain": [
       "count     27\n",
       "unique    27\n",
       "top       ac\n",
       "freq       1\n",
       "Name: sigla_estado, dtype: object"
      ]
     },
     "metadata": {},
     "output_type": "display_data"
    },
    {
     "data": {
      "text/plain": [
       "array(['ac', 'al', 'ap', 'am', 'ba', 'ce', 'df', 'es', 'go', 'ma', 'mt',\n",
       "       'ms', 'mg', 'pa', 'pb', 'pr', 'pe', 'pi', 'rj', 'rn', 'rs', 'ro',\n",
       "       'rr', 'sc', 'sp', 'se', 'to'], dtype=object)"
      ]
     },
     "metadata": {},
     "output_type": "display_data"
    },
    {
     "data": {
      "text/plain": [
       "array(['AC', 'AL', 'AP', 'AM', 'BA', 'CE', 'DF', 'ES', 'GO', 'MA', 'MT',\n",
       "       'MS', 'MG', 'PA', 'PB', 'PR', 'PE', 'PI', 'RJ', 'RN', 'RS', 'RO',\n",
       "       'RR', 'SC', 'SP', 'SE', 'TO'], dtype=object)"
      ]
     },
     "metadata": {},
     "output_type": "display_data"
    }
   ],
   "source": [
    "# Validating `sigla_estado` column\n",
    "display(states['sigla_estado'].describe())\n",
    "display(states['sigla_estado'].unique())\n",
    "\n",
    "## making all abbreviations uppercase\n",
    "states['sigla_estado'] = states['sigla_estado'].str.upper()\n",
    "display(states['sigla_estado'].unique())\n",
    "\n",
    "## expected output: 27 unique abbreviations"
   ]
  },
  {
   "cell_type": "code",
   "execution_count": 20,
   "metadata": {},
   "outputs": [
    {
     "data": {
      "text/html": [
       "<div>\n",
       "<style scoped>\n",
       "    .dataframe tbody tr th:only-of-type {\n",
       "        vertical-align: middle;\n",
       "    }\n",
       "\n",
       "    .dataframe tbody tr th {\n",
       "        vertical-align: top;\n",
       "    }\n",
       "\n",
       "    .dataframe thead th {\n",
       "        text-align: right;\n",
       "    }\n",
       "</style>\n",
       "<table border=\"1\" class=\"dataframe\">\n",
       "  <thead>\n",
       "    <tr style=\"text-align: right;\">\n",
       "      <th></th>\n",
       "      <th>id_estado</th>\n",
       "      <th>estado</th>\n",
       "      <th>sigla_estado</th>\n",
       "      <th>regiao</th>\n",
       "    </tr>\n",
       "  </thead>\n",
       "  <tbody>\n",
       "    <tr>\n",
       "      <th>0</th>\n",
       "      <td>1</td>\n",
       "      <td>Acre</td>\n",
       "      <td>AC</td>\n",
       "      <td>Norte</td>\n",
       "    </tr>\n",
       "    <tr>\n",
       "      <th>1</th>\n",
       "      <td>2</td>\n",
       "      <td>Alagoas</td>\n",
       "      <td>AL</td>\n",
       "      <td>Nordeste</td>\n",
       "    </tr>\n",
       "    <tr>\n",
       "      <th>2</th>\n",
       "      <td>3</td>\n",
       "      <td>Amapá</td>\n",
       "      <td>AP</td>\n",
       "      <td>Norte</td>\n",
       "    </tr>\n",
       "    <tr>\n",
       "      <th>3</th>\n",
       "      <td>4</td>\n",
       "      <td>Amazonas</td>\n",
       "      <td>AM</td>\n",
       "      <td>Norte</td>\n",
       "    </tr>\n",
       "    <tr>\n",
       "      <th>4</th>\n",
       "      <td>5</td>\n",
       "      <td>Bahia</td>\n",
       "      <td>BA</td>\n",
       "      <td>Nordeste</td>\n",
       "    </tr>\n",
       "  </tbody>\n",
       "</table>\n",
       "</div>"
      ],
      "text/plain": [
       "   id_estado    estado sigla_estado    regiao\n",
       "0          1      Acre           AC     Norte\n",
       "1          2   Alagoas           AL  Nordeste\n",
       "2          3     Amapá           AP     Norte\n",
       "3          4  Amazonas           AM     Norte\n",
       "4          5     Bahia           BA  Nordeste"
      ]
     },
     "metadata": {},
     "output_type": "display_data"
    },
    {
     "name": "stdout",
     "output_type": "stream",
     "text": [
      "category\n"
     ]
    }
   ],
   "source": [
    "# Dropping `pais` column and creating `regiao` categorical column, which means 'region'\n",
    "states.drop('pais', axis=1, inplace=True)\n",
    "\n",
    "def region_map(abb):\n",
    "    regions = {\n",
    "        'Norte': ['AC', 'AP', 'AM', 'PA', 'RO', 'RR', 'TO'],\n",
    "        'Nordeste': ['AL', 'BA', 'CE', 'MA', 'PB', 'PE', 'PI', 'RN', 'SE'],\n",
    "        'Sudeste': ['ES', 'MG', 'RJ', 'SP'],\n",
    "        'Sul': ['PR', 'RS', 'SC'],\n",
    "        'Centro-Oeste': ['DF', 'GO', 'MS', 'MT']\n",
    "    }\n",
    "    for region, abbreviations in regions.items():\n",
    "        if abb in abbreviations:\n",
    "            return region\n",
    "    return 'Unknown'\n",
    "\n",
    "states['regiao'] = states['sigla_estado'].apply(region_map)\n",
    "display(states.head())\n",
    "\n",
    "# Making it categorical type\n",
    "states['regiao'] = states['regiao'].astype('category')\n",
    "print(states['regiao'].dtype)"
   ]
  },
  {
   "cell_type": "markdown",
   "metadata": {},
   "source": [
    "### `age` dataframe"
   ]
  },
  {
   "cell_type": "code",
   "execution_count": 21,
   "metadata": {},
   "outputs": [
    {
     "name": "stdout",
     "output_type": "stream",
     "text": [
      "<class 'pandas.core.frame.DataFrame'>\n",
      "RangeIndex: 547 entries, 0 to 546\n",
      "Data columns (total 2 columns):\n",
      " #   Column      Non-Null Count  Dtype\n",
      "---  ------      --------------  -----\n",
      " 0   id_cliente  547 non-null    int64\n",
      " 1   idade       547 non-null    int64\n",
      "dtypes: int64(2)\n",
      "memory usage: 8.7 KB\n"
     ]
    }
   ],
   "source": [
    "# Basic info\n",
    "age.info()"
   ]
  },
  {
   "cell_type": "code",
   "execution_count": 22,
   "metadata": {},
   "outputs": [
    {
     "data": {
      "text/plain": [
       "id_cliente    0\n",
       "idade         0\n",
       "dtype: int64"
      ]
     },
     "execution_count": 22,
     "metadata": {},
     "output_type": "execute_result"
    }
   ],
   "source": [
    "# Checking for null values\n",
    "age.isna().sum()"
   ]
  },
  {
   "cell_type": "code",
   "execution_count": 23,
   "metadata": {},
   "outputs": [
    {
     "data": {
      "text/html": [
       "<div>\n",
       "<style scoped>\n",
       "    .dataframe tbody tr th:only-of-type {\n",
       "        vertical-align: middle;\n",
       "    }\n",
       "\n",
       "    .dataframe tbody tr th {\n",
       "        vertical-align: top;\n",
       "    }\n",
       "\n",
       "    .dataframe thead th {\n",
       "        text-align: right;\n",
       "    }\n",
       "</style>\n",
       "<table border=\"1\" class=\"dataframe\">\n",
       "  <thead>\n",
       "    <tr style=\"text-align: right;\">\n",
       "      <th></th>\n",
       "      <th>id_cliente</th>\n",
       "      <th>idade</th>\n",
       "    </tr>\n",
       "  </thead>\n",
       "  <tbody>\n",
       "  </tbody>\n",
       "</table>\n",
       "</div>"
      ],
      "text/plain": [
       "Empty DataFrame\n",
       "Columns: [id_cliente, idade]\n",
       "Index: []"
      ]
     },
     "metadata": {},
     "output_type": "display_data"
    }
   ],
   "source": [
    "# Checking for duplicated values\n",
    "display(age[age.id_cliente.duplicated()])"
   ]
  },
  {
   "cell_type": "code",
   "execution_count": 24,
   "metadata": {},
   "outputs": [
    {
     "data": {
      "text/plain": [
       "count    547.000000\n",
       "mean      42.791590\n",
       "std       15.160209\n",
       "min       16.000000\n",
       "25%       30.000000\n",
       "50%       42.000000\n",
       "75%       55.000000\n",
       "max       70.000000\n",
       "Name: idade, dtype: float64"
      ]
     },
     "execution_count": 24,
     "metadata": {},
     "output_type": "execute_result"
    }
   ],
   "source": [
    "# Validating `idade` column\n",
    "age.idade.describe()"
   ]
  },
  {
   "cell_type": "markdown",
   "metadata": {},
   "source": [
    "### `salary` dataframe"
   ]
  },
  {
   "cell_type": "code",
   "execution_count": 25,
   "metadata": {},
   "outputs": [
    {
     "name": "stdout",
     "output_type": "stream",
     "text": [
      "<class 'pandas.core.frame.DataFrame'>\n",
      "RangeIndex: 1000 entries, 0 to 999\n",
      "Data columns (total 3 columns):\n",
      " #   Column       Non-Null Count  Dtype  \n",
      "---  ------       --------------  -----  \n",
      " 0   id_cliente   1000 non-null   int64  \n",
      " 1   experiencia  1000 non-null   float64\n",
      " 2   salario      1000 non-null   float64\n",
      "dtypes: float64(2), int64(1)\n",
      "memory usage: 23.6 KB\n"
     ]
    }
   ],
   "source": [
    "# Basic info\n",
    "salary.info()"
   ]
  },
  {
   "cell_type": "code",
   "execution_count": 26,
   "metadata": {},
   "outputs": [
    {
     "data": {
      "text/plain": [
       "id_cliente     0\n",
       "experiencia    0\n",
       "salario        0\n",
       "dtype: int64"
      ]
     },
     "execution_count": 26,
     "metadata": {},
     "output_type": "execute_result"
    }
   ],
   "source": [
    "# Checking for null values\n",
    "salary.isna().sum()"
   ]
  },
  {
   "cell_type": "code",
   "execution_count": 27,
   "metadata": {},
   "outputs": [
    {
     "data": {
      "text/html": [
       "<div>\n",
       "<style scoped>\n",
       "    .dataframe tbody tr th:only-of-type {\n",
       "        vertical-align: middle;\n",
       "    }\n",
       "\n",
       "    .dataframe tbody tr th {\n",
       "        vertical-align: top;\n",
       "    }\n",
       "\n",
       "    .dataframe thead th {\n",
       "        text-align: right;\n",
       "    }\n",
       "</style>\n",
       "<table border=\"1\" class=\"dataframe\">\n",
       "  <thead>\n",
       "    <tr style=\"text-align: right;\">\n",
       "      <th></th>\n",
       "      <th>id_cliente</th>\n",
       "      <th>experiencia</th>\n",
       "      <th>salario</th>\n",
       "    </tr>\n",
       "  </thead>\n",
       "  <tbody>\n",
       "  </tbody>\n",
       "</table>\n",
       "</div>"
      ],
      "text/plain": [
       "Empty DataFrame\n",
       "Columns: [id_cliente, experiencia, salario]\n",
       "Index: []"
      ]
     },
     "metadata": {},
     "output_type": "display_data"
    }
   ],
   "source": [
    "# Checking for duplicated values\n",
    "display(salary[salary.id_cliente.duplicated()])"
   ]
  },
  {
   "cell_type": "code",
   "execution_count": 28,
   "metadata": {},
   "outputs": [
    {
     "data": {
      "text/plain": [
       "count    1000.000000\n",
       "mean       26.157825\n",
       "std         8.717091\n",
       "min         0.697594\n",
       "25%        20.073600\n",
       "50%        25.875225\n",
       "75%        32.406986\n",
       "max        49.463222\n",
       "Name: experiencia, dtype: float64"
      ]
     },
     "execution_count": 28,
     "metadata": {},
     "output_type": "execute_result"
    }
   ],
   "source": [
    "# Validating `experiencia` column\n",
    "salary.experiencia.describe()"
   ]
  },
  {
   "cell_type": "code",
   "execution_count": 29,
   "metadata": {},
   "outputs": [
    {
     "data": {
      "text/plain": [
       "count    1000.000000\n",
       "mean       26.722597\n",
       "std         8.844761\n",
       "min        -1.276342\n",
       "25%        20.531008\n",
       "50%        26.745576\n",
       "75%        32.615753\n",
       "max        55.297016\n",
       "Name: salario, dtype: float64"
      ]
     },
     "metadata": {},
     "output_type": "display_data"
    },
    {
     "name": "stdout",
     "output_type": "stream",
     "text": [
      "\n",
      "Rows with negative or zero salaries\n"
     ]
    },
    {
     "data": {
      "text/html": [
       "<div>\n",
       "<style scoped>\n",
       "    .dataframe tbody tr th:only-of-type {\n",
       "        vertical-align: middle;\n",
       "    }\n",
       "\n",
       "    .dataframe tbody tr th {\n",
       "        vertical-align: top;\n",
       "    }\n",
       "\n",
       "    .dataframe thead th {\n",
       "        text-align: right;\n",
       "    }\n",
       "</style>\n",
       "<table border=\"1\" class=\"dataframe\">\n",
       "  <thead>\n",
       "    <tr style=\"text-align: right;\">\n",
       "      <th></th>\n",
       "      <th>id_cliente</th>\n",
       "      <th>experiencia</th>\n",
       "      <th>salario</th>\n",
       "    </tr>\n",
       "  </thead>\n",
       "  <tbody>\n",
       "    <tr>\n",
       "      <th>133</th>\n",
       "      <td>134</td>\n",
       "      <td>8.520651</td>\n",
       "      <td>-1.276342</td>\n",
       "    </tr>\n",
       "    <tr>\n",
       "      <th>772</th>\n",
       "      <td>773</td>\n",
       "      <td>2.882022</td>\n",
       "      <td>-0.074563</td>\n",
       "    </tr>\n",
       "  </tbody>\n",
       "</table>\n",
       "</div>"
      ],
      "text/plain": [
       "     id_cliente  experiencia   salario\n",
       "133         134     8.520651 -1.276342\n",
       "772         773     2.882022 -0.074563"
      ]
     },
     "metadata": {},
     "output_type": "display_data"
    }
   ],
   "source": [
    "# Validating `salario` column\n",
    "display(salary.salario.describe())\n",
    "\n",
    "## Looks like there's negative salaries! Let's check them out\n",
    "negative_salaries = salary[salary.salario <= 0]\n",
    "print('\\nRows with negative or zero salaries')\n",
    "display(negative_salaries)\n",
    "\n",
    "## After asking the professor about this problem, I was instructed to keep the negative salaries."
   ]
  },
  {
   "cell_type": "markdown",
   "metadata": {},
   "source": [
    "### Joining dataframes"
   ]
  },
  {
   "cell_type": "code",
   "execution_count": 30,
   "metadata": {},
   "outputs": [
    {
     "data": {
      "text/html": [
       "<div>\n",
       "<style scoped>\n",
       "    .dataframe tbody tr th:only-of-type {\n",
       "        vertical-align: middle;\n",
       "    }\n",
       "\n",
       "    .dataframe tbody tr th {\n",
       "        vertical-align: top;\n",
       "    }\n",
       "\n",
       "    .dataframe thead th {\n",
       "        text-align: right;\n",
       "    }\n",
       "</style>\n",
       "<table border=\"1\" class=\"dataframe\">\n",
       "  <thead>\n",
       "    <tr style=\"text-align: right;\">\n",
       "      <th></th>\n",
       "      <th>id_cliente</th>\n",
       "      <th>peso</th>\n",
       "      <th>colesterol</th>\n",
       "      <th>genero</th>\n",
       "      <th>id_estado</th>\n",
       "      <th>estado</th>\n",
       "      <th>sigla_estado</th>\n",
       "      <th>regiao</th>\n",
       "      <th>idade</th>\n",
       "    </tr>\n",
       "  </thead>\n",
       "  <tbody>\n",
       "    <tr>\n",
       "      <th>0</th>\n",
       "      <td>1</td>\n",
       "      <td>102.0</td>\n",
       "      <td>111</td>\n",
       "      <td>Masculino</td>\n",
       "      <td>23</td>\n",
       "      <td>Roraima</td>\n",
       "      <td>RR</td>\n",
       "      <td>Norte</td>\n",
       "      <td>17</td>\n",
       "    </tr>\n",
       "    <tr>\n",
       "      <th>1</th>\n",
       "      <td>54</td>\n",
       "      <td>149.0</td>\n",
       "      <td>183</td>\n",
       "      <td>Masculino</td>\n",
       "      <td>23</td>\n",
       "      <td>Roraima</td>\n",
       "      <td>RR</td>\n",
       "      <td>Norte</td>\n",
       "      <td>48</td>\n",
       "    </tr>\n",
       "    <tr>\n",
       "      <th>2</th>\n",
       "      <td>61</td>\n",
       "      <td>113.0</td>\n",
       "      <td>129</td>\n",
       "      <td>Feminino</td>\n",
       "      <td>23</td>\n",
       "      <td>Roraima</td>\n",
       "      <td>RR</td>\n",
       "      <td>Norte</td>\n",
       "      <td>70</td>\n",
       "    </tr>\n",
       "    <tr>\n",
       "      <th>3</th>\n",
       "      <td>147</td>\n",
       "      <td>140.0</td>\n",
       "      <td>171</td>\n",
       "      <td>Masculino</td>\n",
       "      <td>23</td>\n",
       "      <td>Roraima</td>\n",
       "      <td>RR</td>\n",
       "      <td>Norte</td>\n",
       "      <td>40</td>\n",
       "    </tr>\n",
       "    <tr>\n",
       "      <th>4</th>\n",
       "      <td>154</td>\n",
       "      <td>134.0</td>\n",
       "      <td>162</td>\n",
       "      <td>Feminino</td>\n",
       "      <td>23</td>\n",
       "      <td>Roraima</td>\n",
       "      <td>RR</td>\n",
       "      <td>Norte</td>\n",
       "      <td>26</td>\n",
       "    </tr>\n",
       "  </tbody>\n",
       "</table>\n",
       "</div>"
      ],
      "text/plain": [
       "   id_cliente   peso  colesterol     genero  id_estado   estado sigla_estado  \\\n",
       "0           1  102.0         111  Masculino         23  Roraima           RR   \n",
       "1          54  149.0         183  Masculino         23  Roraima           RR   \n",
       "2          61  113.0         129   Feminino         23  Roraima           RR   \n",
       "3         147  140.0         171  Masculino         23  Roraima           RR   \n",
       "4         154  134.0         162   Feminino         23  Roraima           RR   \n",
       "\n",
       "  regiao  idade  \n",
       "0  Norte     17  \n",
       "1  Norte     48  \n",
       "2  Norte     70  \n",
       "3  Norte     40  \n",
       "4  Norte     26  "
      ]
     },
     "metadata": {},
     "output_type": "display_data"
    },
    {
     "data": {
      "text/html": [
       "<div>\n",
       "<style scoped>\n",
       "    .dataframe tbody tr th:only-of-type {\n",
       "        vertical-align: middle;\n",
       "    }\n",
       "\n",
       "    .dataframe tbody tr th {\n",
       "        vertical-align: top;\n",
       "    }\n",
       "\n",
       "    .dataframe thead th {\n",
       "        text-align: right;\n",
       "    }\n",
       "</style>\n",
       "<table border=\"1\" class=\"dataframe\">\n",
       "  <thead>\n",
       "    <tr style=\"text-align: right;\">\n",
       "      <th></th>\n",
       "      <th>id_cliente</th>\n",
       "      <th>peso</th>\n",
       "      <th>colesterol</th>\n",
       "      <th>genero</th>\n",
       "      <th>id_estado</th>\n",
       "      <th>estado</th>\n",
       "      <th>sigla_estado</th>\n",
       "      <th>regiao</th>\n",
       "      <th>idade</th>\n",
       "    </tr>\n",
       "  </thead>\n",
       "  <tbody>\n",
       "  </tbody>\n",
       "</table>\n",
       "</div>"
      ],
      "text/plain": [
       "Empty DataFrame\n",
       "Columns: [id_cliente, peso, colesterol, genero, id_estado, estado, sigla_estado, regiao, idade]\n",
       "Index: []"
      ]
     },
     "metadata": {},
     "output_type": "display_data"
    }
   ],
   "source": [
    "# First merge between 'clients' and 'states' on 'id_estado'\n",
    "merged_df = pd.merge(clients, states, on='id_estado')\n",
    "\n",
    "# Second merge between 'merged_df' and 'age' on 'id_cliente'\n",
    "df = pd.merge(merged_df, age, on='id_cliente')\n",
    "\n",
    "# Checking resulting dataframe\n",
    "display(df.head())\n",
    "\n",
    "# Checking for duplicated rows\n",
    "display(df[df.duplicated()])"
   ]
  },
  {
   "cell_type": "code",
   "execution_count": 31,
   "metadata": {},
   "outputs": [
    {
     "data": {
      "text/html": [
       "<div>\n",
       "<style scoped>\n",
       "    .dataframe tbody tr th:only-of-type {\n",
       "        vertical-align: middle;\n",
       "    }\n",
       "\n",
       "    .dataframe tbody tr th {\n",
       "        vertical-align: top;\n",
       "    }\n",
       "\n",
       "    .dataframe thead th {\n",
       "        text-align: right;\n",
       "    }\n",
       "</style>\n",
       "<table border=\"1\" class=\"dataframe\">\n",
       "  <thead>\n",
       "    <tr style=\"text-align: right;\">\n",
       "      <th></th>\n",
       "      <th>id_cliente</th>\n",
       "      <th>peso</th>\n",
       "      <th>colesterol</th>\n",
       "      <th>genero</th>\n",
       "      <th>id_estado</th>\n",
       "      <th>estado</th>\n",
       "      <th>sigla_estado</th>\n",
       "      <th>regiao</th>\n",
       "      <th>idade</th>\n",
       "      <th>experiencia</th>\n",
       "      <th>salario</th>\n",
       "    </tr>\n",
       "  </thead>\n",
       "  <tbody>\n",
       "    <tr>\n",
       "      <th>0</th>\n",
       "      <td>1</td>\n",
       "      <td>102.0</td>\n",
       "      <td>111</td>\n",
       "      <td>Masculino</td>\n",
       "      <td>23</td>\n",
       "      <td>Roraima</td>\n",
       "      <td>RR</td>\n",
       "      <td>Norte</td>\n",
       "      <td>17</td>\n",
       "      <td>18.290293</td>\n",
       "      <td>16.521825</td>\n",
       "    </tr>\n",
       "    <tr>\n",
       "      <th>1</th>\n",
       "      <td>54</td>\n",
       "      <td>149.0</td>\n",
       "      <td>183</td>\n",
       "      <td>Masculino</td>\n",
       "      <td>23</td>\n",
       "      <td>Roraima</td>\n",
       "      <td>RR</td>\n",
       "      <td>Norte</td>\n",
       "      <td>48</td>\n",
       "      <td>33.723395</td>\n",
       "      <td>41.540865</td>\n",
       "    </tr>\n",
       "    <tr>\n",
       "      <th>2</th>\n",
       "      <td>61</td>\n",
       "      <td>113.0</td>\n",
       "      <td>129</td>\n",
       "      <td>Feminino</td>\n",
       "      <td>23</td>\n",
       "      <td>Roraima</td>\n",
       "      <td>RR</td>\n",
       "      <td>Norte</td>\n",
       "      <td>70</td>\n",
       "      <td>17.060087</td>\n",
       "      <td>12.949522</td>\n",
       "    </tr>\n",
       "    <tr>\n",
       "      <th>3</th>\n",
       "      <td>147</td>\n",
       "      <td>140.0</td>\n",
       "      <td>171</td>\n",
       "      <td>Masculino</td>\n",
       "      <td>23</td>\n",
       "      <td>Roraima</td>\n",
       "      <td>RR</td>\n",
       "      <td>Norte</td>\n",
       "      <td>40</td>\n",
       "      <td>19.525438</td>\n",
       "      <td>22.227984</td>\n",
       "    </tr>\n",
       "    <tr>\n",
       "      <th>4</th>\n",
       "      <td>154</td>\n",
       "      <td>134.0</td>\n",
       "      <td>162</td>\n",
       "      <td>Feminino</td>\n",
       "      <td>23</td>\n",
       "      <td>Roraima</td>\n",
       "      <td>RR</td>\n",
       "      <td>Norte</td>\n",
       "      <td>26</td>\n",
       "      <td>16.021363</td>\n",
       "      <td>15.872766</td>\n",
       "    </tr>\n",
       "  </tbody>\n",
       "</table>\n",
       "</div>"
      ],
      "text/plain": [
       "   id_cliente   peso  colesterol     genero  id_estado   estado sigla_estado  \\\n",
       "0           1  102.0         111  Masculino         23  Roraima           RR   \n",
       "1          54  149.0         183  Masculino         23  Roraima           RR   \n",
       "2          61  113.0         129   Feminino         23  Roraima           RR   \n",
       "3         147  140.0         171  Masculino         23  Roraima           RR   \n",
       "4         154  134.0         162   Feminino         23  Roraima           RR   \n",
       "\n",
       "  regiao  idade  experiencia    salario  \n",
       "0  Norte     17    18.290293  16.521825  \n",
       "1  Norte     48    33.723395  41.540865  \n",
       "2  Norte     70    17.060087  12.949522  \n",
       "3  Norte     40    19.525438  22.227984  \n",
       "4  Norte     26    16.021363  15.872766  "
      ]
     },
     "execution_count": 31,
     "metadata": {},
     "output_type": "execute_result"
    }
   ],
   "source": [
    "# Final merge\n",
    "final_df = df.merge(salary, on='id_cliente', how='left')\n",
    "\n",
    "# Checking final_df\n",
    "final_df.head()"
   ]
  },
  {
   "cell_type": "markdown",
   "metadata": {},
   "source": [
    "# 2. Exploratory Data Analysis (EDA)"
   ]
  },
  {
   "cell_type": "markdown",
   "metadata": {},
   "source": [
    "## Statistical summaries"
   ]
  },
  {
   "cell_type": "code",
   "execution_count": 32,
   "metadata": {},
   "outputs": [
    {
     "data": {
      "text/plain": [
       "count    547.000000\n",
       "mean     143.409506\n",
       "std       30.697098\n",
       "min       95.000000\n",
       "25%      116.000000\n",
       "50%      140.000000\n",
       "75%      171.000000\n",
       "max      203.000000\n",
       "Name: peso, dtype: float64"
      ]
     },
     "metadata": {},
     "output_type": "display_data"
    }
   ],
   "source": [
    "# Numerical variables\n",
    "display(final_df['peso'].describe())"
   ]
  },
  {
   "cell_type": "code",
   "execution_count": 33,
   "metadata": {},
   "outputs": [
    {
     "data": {
      "text/plain": [
       "count    547.000000\n",
       "mean     170.433272\n",
       "std       39.147189\n",
       "min      102.000000\n",
       "25%      136.000000\n",
       "50%      169.000000\n",
       "75%      208.000000\n",
       "max      235.000000\n",
       "Name: colesterol, dtype: float64"
      ]
     },
     "metadata": {},
     "output_type": "display_data"
    }
   ],
   "source": [
    "display(final_df['colesterol'].describe())"
   ]
  },
  {
   "cell_type": "code",
   "execution_count": 34,
   "metadata": {},
   "outputs": [
    {
     "data": {
      "text/plain": [
       "count    547.000000\n",
       "mean      26.018597\n",
       "std        8.851570\n",
       "min        0.697594\n",
       "25%       19.927422\n",
       "50%       25.987551\n",
       "75%       32.101135\n",
       "max       49.463222\n",
       "Name: experiencia, dtype: float64"
      ]
     },
     "metadata": {},
     "output_type": "display_data"
    }
   ],
   "source": [
    "display(final_df['experiencia'].describe())"
   ]
  },
  {
   "cell_type": "code",
   "execution_count": 35,
   "metadata": {},
   "outputs": [
    {
     "data": {
      "text/plain": [
       "count    547.000000\n",
       "mean      26.630585\n",
       "std        9.097362\n",
       "min       -1.276342\n",
       "25%       20.034048\n",
       "50%       26.753085\n",
       "75%       32.672483\n",
       "max       55.297016\n",
       "Name: salario, dtype: float64"
      ]
     },
     "metadata": {},
     "output_type": "display_data"
    }
   ],
   "source": [
    "display(final_df['salario'].describe())"
   ]
  },
  {
   "cell_type": "code",
   "execution_count": 36,
   "metadata": {},
   "outputs": [
    {
     "data": {
      "text/plain": [
       "count           547\n",
       "unique            2\n",
       "top       Masculino\n",
       "freq            281\n",
       "Name: genero, dtype: object"
      ]
     },
     "metadata": {},
     "output_type": "display_data"
    },
    {
     "data": {
      "text/plain": [
       "genero\n",
       "Masculino    0.513711\n",
       "Feminino     0.486289\n",
       "Name: proportion, dtype: float64"
      ]
     },
     "metadata": {},
     "output_type": "display_data"
    }
   ],
   "source": [
    "# Categorical variables\n",
    "display(final_df['genero'].describe())\n",
    "display(final_df['genero'].value_counts(normalize=True))"
   ]
  },
  {
   "cell_type": "code",
   "execution_count": 37,
   "metadata": {},
   "outputs": [
    {
     "data": {
      "text/plain": [
       "count              547\n",
       "unique              27\n",
       "top       Minas Gerais\n",
       "freq                27\n",
       "Name: estado, dtype: object"
      ]
     },
     "metadata": {},
     "output_type": "display_data"
    },
    {
     "data": {
      "text/plain": [
       "estado\n",
       "Minas Gerais           0.049360\n",
       "Ceará                  0.045704\n",
       "Amazonas               0.045704\n",
       "Rio Grande do Norte    0.043876\n",
       "Rio de Janeiro         0.042048\n",
       "Goiás                  0.042048\n",
       "Piauí                  0.042048\n",
       "Distrito Federal       0.040219\n",
       "Maranhão               0.040219\n",
       "Mato Grosso do Sul     0.040219\n",
       "Santa Catarina         0.040219\n",
       "Rio Grande do Sul      0.038391\n",
       "Pará                   0.038391\n",
       "Alagoas                0.038391\n",
       "Amapá                  0.038391\n",
       "Rondônia               0.036563\n",
       "Tocantins              0.034735\n",
       "Sergipe                0.034735\n",
       "Roraima                0.032907\n",
       "Mato Grosso            0.032907\n",
       "Paraná                 0.032907\n",
       "Espírito Santo         0.032907\n",
       "Bahia                  0.032907\n",
       "Pernambuco             0.031079\n",
       "Paraíba                0.029250\n",
       "Acre                   0.021938\n",
       "São Paulo              0.021938\n",
       "Name: proportion, dtype: float64"
      ]
     },
     "metadata": {},
     "output_type": "display_data"
    }
   ],
   "source": [
    "display(final_df.estado.describe())\n",
    "display(final_df.estado.value_counts(normalize=True))"
   ]
  },
  {
   "cell_type": "code",
   "execution_count": 38,
   "metadata": {},
   "outputs": [
    {
     "data": {
      "text/plain": [
       "count          547\n",
       "unique           5\n",
       "top       Nordeste\n",
       "freq           185\n",
       "Name: regiao, dtype: object"
      ]
     },
     "metadata": {},
     "output_type": "display_data"
    },
    {
     "data": {
      "text/plain": [
       "regiao\n",
       "Nordeste        0.338208\n",
       "Norte           0.248629\n",
       "Centro-Oeste    0.155393\n",
       "Sudeste         0.146252\n",
       "Sul             0.111517\n",
       "Name: proportion, dtype: float64"
      ]
     },
     "metadata": {},
     "output_type": "display_data"
    }
   ],
   "source": [
    "display(final_df.regiao.describe())\n",
    "display(final_df.regiao.value_counts(normalize=True))"
   ]
  },
  {
   "cell_type": "markdown",
   "metadata": {},
   "source": [
    "## Numerical data distribution"
   ]
  },
  {
   "cell_type": "code",
   "execution_count": 39,
   "metadata": {},
   "outputs": [
    {
     "data": {
      "image/png": "[encoded data removed]",
      "text/plain": [
       "<Figure size 640x480 with 1 Axes>"
      ]
     },
     "metadata": {},
     "output_type": "display_data"
    },
    {
     "data": {
      "image/png": "[encoded data removed]",
      "text/plain": [
       "<Figure size 640x480 with 1 Axes>"
      ]
     },
     "metadata": {},
     "output_type": "display_data"
    },
    {
     "data": {
      "image/png": "[encoded data removed]",
      "text/plain": [
       "<Figure size 640x480 with 1 Axes>"
      ]
     },
     "metadata": {},
     "output_type": "display_data"
    }
   ],
   "source": [
    "# Histogram for 'peso' column\n",
    "sns.histplot(final_df['peso'], bins=20, kde=True)\n",
    "plt.title('Weight Distribution')\n",
    "plt.xlabel('Weight (kg)')\n",
    "plt.show()\n",
    "\n",
    "# Histogram for 'colesterol' column\n",
    "sns.histplot(final_df['colesterol'], bins=20, kde=True)\n",
    "plt.title('Serum Cholesterol Distribution')\n",
    "plt.xlabel('Cholesterol (mg/dL)')\n",
    "plt.show()\n",
    "\n",
    "# Histogram for 'idade' column\n",
    "sns.histplot(final_df['idade'], bins=20, kde=True)\n",
    "plt.title('Age Distribution')\n",
    "plt.xlabel('Age (years)')\n",
    "plt.show()\n"
   ]
  },
  {
   "cell_type": "markdown",
   "metadata": {},
   "source": [
    "## Categorical data distribution"
   ]
  },
  {
   "cell_type": "code",
   "execution_count": 40,
   "metadata": {},
   "outputs": [
    {
     "data": {
      "image/png": "[encoded data removed]",
      "text/plain": [
       "<Figure size 640x480 with 1 Axes>"
      ]
     },
     "metadata": {},
     "output_type": "display_data"
    },
    {
     "data": {
      "image/png": "[encoded data removed]",
      "text/plain": [
       "<Figure size 1000x600 with 1 Axes>"
      ]
     },
     "metadata": {},
     "output_type": "display_data"
    },
    {
     "data": {
      "image/png": "[encoded data removed]",
      "text/plain": [
       "<Figure size 640x480 with 1 Axes>"
      ]
     },
     "metadata": {},
     "output_type": "display_data"
    }
   ],
   "source": [
    "# Barplot for 'genero' column\n",
    "sns.countplot(x='genero', data=final_df)\n",
    "plt.title('Genre Distribution')\n",
    "plt.xlabel('Genre')\n",
    "plt.ylabel('Count')\n",
    "plt.show()\n",
    "\n",
    "# Barplot for 'sigla_estado' column\n",
    "order = final_df['sigla_estado'].value_counts().index\n",
    "\n",
    "plt.figure(figsize=(10, 6))\n",
    "sns.countplot(x='sigla_estado', data=final_df, order=order)\n",
    "plt.title('State Distribution')\n",
    "plt.xlabel('State')\n",
    "plt.ylabel('Count')\n",
    "plt.show()\n",
    "\n",
    "# Barplot for 'region' column\n",
    "orderRegion = df['regiao'].value_counts().index\n",
    "\n",
    "sns.countplot(x='regiao', data=final_df, order=orderRegion)\n",
    "plt.title('Region Distribution')\n",
    "plt.xlabel('Region')\n",
    "plt.ylabel('Count')\n",
    "plt.show()\n"
   ]
  },
  {
   "cell_type": "markdown",
   "metadata": {},
   "source": [
    "## Relationship between variables"
   ]
  },
  {
   "cell_type": "code",
   "execution_count": 41,
   "metadata": {},
   "outputs": [
    {
     "data": {
      "image/png": "[encoded data removed]",
      "text/plain": [
       "<Figure size 800x600 with 1 Axes>"
      ]
     },
     "metadata": {},
     "output_type": "display_data"
    },
    {
     "data": {
      "image/png": "[encoded data removed]",
      "text/plain": [
       "<Figure size 800x600 with 1 Axes>"
      ]
     },
     "metadata": {},
     "output_type": "display_data"
    }
   ],
   "source": [
    "# Boxplot for 'peso' and 'genero'\n",
    "plt.figure(figsize=(8, 6))\n",
    "sns.boxplot(x='genero', y='peso', data=final_df)\n",
    "plt.title('Distribution of Weight by Genre')\n",
    "plt.show()\n",
    "\n",
    "# Boxplot 'colesterol' and 'regiao' -- can't get enough of violinplots...\n",
    "plt.figure(figsize=(8, 6))\n",
    "sns.boxplot(x='regiao', y='colesterol', data=final_df)\n",
    "plt.title('Distribution of Serum Cholesterol and Region')\n",
    "plt.show()\n"
   ]
  },
  {
   "cell_type": "markdown",
   "metadata": {},
   "source": [
    "# 3. Variables correlations\n",
    "This section is dedicated exclusively to the analysis of variable correlations, as per the specific instructions received."
   ]
  },
  {
   "cell_type": "code",
   "execution_count": 42,
   "metadata": {},
   "outputs": [
    {
     "data": {
      "image/png": "[encoded data removed]",
      "text/plain": [
       "<Figure size 800x600 with 2 Axes>"
      ]
     },
     "metadata": {},
     "output_type": "display_data"
    }
   ],
   "source": [
    "# Correlation matrix calculations\n",
    "cols = final_df[['peso', 'colesterol', 'idade', 'experiencia', 'salario']]\n",
    "corr_matrix = cols.corr()\n",
    "\n",
    "# Heatmap\n",
    "plt.figure(figsize=(8, 6))\n",
    "sns.heatmap(corr_matrix, annot=True, cmap='Blues')\n",
    "plt.title('Heatmap of Numerical Variables')\n",
    "plt.show()\n"
   ]
  },
  {
   "cell_type": "code",
   "execution_count": 43,
   "metadata": {},
   "outputs": [
    {
     "data": {
      "image/png": "[encoded data removed]",
      "text/plain": [
       "<Figure size 640x480 with 1 Axes>"
      ]
     },
     "metadata": {},
     "output_type": "display_data"
    }
   ],
   "source": [
    "# 'hue' color dictionary\n",
    "palette = {'Feminino': 'red', 'Masculino': 'blue'}\n",
    "\n",
    "# Scatterplot weight vs cholesterol\n",
    "sns.scatterplot(x='peso', y='colesterol', hue='genero', data=final_df, palette=palette)\n",
    "plt.title('Weight vs Cholesterol by Genre')\n",
    "plt.xlabel('Weight (kg)')\n",
    "plt.ylabel('Serum Cholesterol (mg/dL)')\n",
    "\n",
    "# Exibir o gráfico\n",
    "plt.show()\n"
   ]
  },
  {
   "cell_type": "code",
   "execution_count": 44,
   "metadata": {},
   "outputs": [
    {
     "data": {
      "image/png": "[encoded data removed]",
      "text/plain": [
       "<Figure size 640x480 with 1 Axes>"
      ]
     },
     "metadata": {},
     "output_type": "display_data"
    }
   ],
   "source": [
    "# Scatterplot experience vs salary\n",
    "sns.scatterplot(x='experiencia', y='salario', hue='genero', data=final_df, palette=palette)\n",
    "plt.title('Experience vs Salary by Genre')\n",
    "plt.xlabel('Experience (months)')\n",
    "plt.ylabel('Salary (in thousands USD)')\n",
    "\n",
    "# Exibir o gráfico\n",
    "plt.show()"
   ]
  },
  {
   "cell_type": "markdown",
   "metadata": {},
   "source": [
    "# 4. K-means\n",
    "Instructions: use `random_state=0` and `init='k-means++'`"
   ]
  },
  {
   "cell_type": "markdown",
   "metadata": {},
   "source": [
    "### Weight vs Cholesterol"
   ]
  },
  {
   "cell_type": "code",
   "execution_count": 45,
   "metadata": {},
   "outputs": [],
   "source": [
    "# Choosing features\n",
    "samples_df = final_df[['peso', 'colesterol']]\n",
    "\n",
    "# Preprocessing\n",
    "scaler = StandardScaler()\n",
    "samples_df = scaler.fit_transform(samples_df)\n"
   ]
  },
  {
   "cell_type": "code",
   "execution_count": 46,
   "metadata": {},
   "outputs": [
    {
     "name": "stderr",
     "output_type": "stream",
     "text": [
      "c:\\Users\\karlf\\AppData\\Local\\Programs\\Python\\Python311\\Lib\\site-packages\\joblib\\externals\\loky\\backend\\context.py:136: UserWarning: Could not find the number of physical cores for the following reason:\n",
      "found 0 physical cores < 1\n",
      "Returning the number of logical cores instead. You can silence this warning by setting LOKY_MAX_CPU_COUNT to the number of cores you want to use.\n",
      "  warnings.warn(\n",
      "  File \"c:\\Users\\karlf\\AppData\\Local\\Programs\\Python\\Python311\\Lib\\site-packages\\joblib\\externals\\loky\\backend\\context.py\", line 282, in _count_physical_cores\n",
      "    raise ValueError(f\"found {cpu_count_physical} physical cores < 1\")\n"
     ]
    },
    {
     "data": {
      "image/png": "[encoded data removed]",
      "text/plain": [
       "<Figure size 640x480 with 1 Axes>"
      ]
     },
     "metadata": {},
     "output_type": "display_data"
    }
   ],
   "source": [
    "# Plotting inertia plot for elbow method\n",
    "ks = range(1,6)\n",
    "inertias = []\n",
    "\n",
    "for k in ks:\n",
    "    # Create a KMeans instance with k clusters: model\n",
    "    model_df = KMeans(n_clusters=k, n_init=10, random_state=0, init='k-means++')\n",
    "    \n",
    "    # Fit model to samples\n",
    "    model_df.fit(samples_df)\n",
    "    \n",
    "    # Append the inertia to the list of inertias\n",
    "    inertias.append(model_df.inertia_)\n",
    "\n",
    "# Plot ks vs inertias\n",
    "plt.plot(ks, inertias, '-o')\n",
    "plt.title('Inertia vs k clusters -- Elbow Method')\n",
    "plt.xlabel('number of clusters, k')\n",
    "plt.ylabel('inertia')\n",
    "plt.xticks(ks)\n",
    "plt.show()"
   ]
  },
  {
   "cell_type": "code",
   "execution_count": 47,
   "metadata": {},
   "outputs": [
    {
     "name": "stdout",
     "output_type": "stream",
     "text": [
      "[2 1 2 1 1 1 2 1 2 2 1 0 0 2 1 0 2 2 2 1 0 1 1 0 2 0 0 0 2 0 0 1 0 2 2 2 2\n",
      " 0 2 0 2 2 2 0 2 2 2 2 0 0 2 0 2 0 0 2 1 0 2 1 1 2 2 1 0 1 2 0 0 1 1 1 1 1\n",
      " 0 2 1 1 2 1 2 1 2 0 2 0 0 1 2 1 2 2 1 2 0 0 0 0 2 1 1 1 0 1 0 2 0 0 2 1 2\n",
      " 0 2 0 1 0 1 1 1 1 0 1 2 1 1 1 1 0 0 2 0 2 2 1 1 0 0 2 1 1 2 1 2 1 2 1 0 2\n",
      " 0 2 0 0 0 2 0 0 0 1 2 0 0 1 1 2 2 2 1 1 0 1 2 2 0 1 1 0 2 1 2 2 2 2 1 1 2\n",
      " 2 0 2 1 0 0 0 0 2 2 0 1 2 0 1 2 1 0 0 2 1 1 0 1 1 2 2 0 1 0 1 0 0 0 0 0 1\n",
      " 0 2 2 1 2 0 0 2 1 1 2 1 0 1 0 0 0 0 2 2 1 0 2 2 1 1 1 2 2 0 0 2 1 1 1 1 1\n",
      " 1 0 2 2 0 2 2 0 1 0 2 1 2 2 1 1 2 0 2 2 1 1 1 2 2 0 2 1 1 0 0 1 0 1 0 0 0\n",
      " 2 1 0 2 0 1 0 0 1 2 2 2 0 1 2 2 1 1 2 0 0 0 0 0 0 0 0 2 0 2 2 1 0 1 0 1 0\n",
      " 2 2 2 0 1 1 2 0 1 2 2 0 0 2 0 2 1 2 2 2 1 0 1 0 1 1 2 2 0 1 1 0 0 0 0 0 0\n",
      " 0 1 1 0 2 1 2 2 0 0 0 1 0 2 2 2 2 2 1 1 2 1 2 0 1 0 2 1 0 2 1 0 0 2 1 0 1\n",
      " 2 2 2 1 1 0 1 1 2 1 0 2 2 2 0 1 1 1 0 1 2 2 1 2 1 2 2 1 0 1 2 2 0 1 0 0 0\n",
      " 2 0 2 0 2 1 1 2 2 1 1 0 1 2 1 1 2 0 2 0 0 2 1 2 1 2 2 1 0 1 1 2 0 2 1 1 2\n",
      " 1 1 2 2 2 2 1 0 1 1 1 2 1 1 2 1 1 2 2 0 2 1 1 2 2 2 1 0 2 1 2 1 2 1 0 1 0\n",
      " 1 1 1 1 1 1 1 1 2 1 2 0 0 1 2 1 2 1 2 2 0 0 0 0 2 2 2 0 2]\n"
     ]
    }
   ],
   "source": [
    "# Fitting the model with 3 clusters\n",
    "model_df = KMeans(n_clusters=3, random_state=0, init='k-means++', n_init=10)\n",
    "labels_df = model_df.fit_predict(samples_df)\n",
    "\n",
    "# Checking labels\n",
    "print(labels_df)"
   ]
  },
  {
   "cell_type": "code",
   "execution_count": 48,
   "metadata": {},
   "outputs": [
    {
     "data": {
      "application/vnd.plotly.v1+json": {
       "config": {
        "plotlyServerURL": "https://plot.ly"
       },
       "data": [
        {
         "hovertemplate": "x=%{x}<br>y=%{y}<br>color=%{marker.color}<extra></extra>",
         "legendgroup": "",
         "marker": {
          "color": [
           2,
           1,
           2,
           1,
           1,
           1,
           2,
           1,
           2,
           2,
           1,
           0,
           0,
           2,
           1,
           0,
           2,
           2,
           2,
           1,
           0,
           1,
           1,
           0,
           2,
           0,
           0,
           0,
           2,
           0,
           0,
           1,
           0,
           2,
           2,
           2,
           2,
           0,
           2,
           0,
           2,
           2,
           2,
           0,
           2,
           2,
           2,
           2,
           0,
           0,
           2,
           0,
           2,
           0,
           0,
           2,
           1,
           0,
           2,
           1,
           1,
           2,
           2,
           1,
           0,
           1,
           2,
           0,
           0,
           1,
           1,
           1,
           1,
           1,
           0,
           2,
           1,
           1,
           2,
           1,
           2,
           1,
           2,
           0,
           2,
           0,
           0,
           1,
           2,
           1,
           2,
           2,
           1,
           2,
           0,
           0,
           0,
           0,
           2,
           1,
           1,
           1,
           0,
           1,
           0,
           2,
           0,
           0,
           2,
           1,
           2,
           0,
           2,
           0,
           1,
           0,
           1,
           1,
           1,
           1,
           0,
           1,
           2,
           1,
           1,
           1,
           1,
           0,
           0,
           2,
           0,
           2,
           2,
           1,
           1,
           0,
           0,
           2,
           1,
           1,
           2,
           1,
           2,
           1,
           2,
           1,
           0,
           2,
           0,
           2,
           0,
           0,
           0,
           2,
           0,
           0,
           0,
           1,
           2,
           0,
           0,
           1,
           1,
           2,
           2,
           2,
           1,
           1,
           0,
           1,
           2,
           2,
           0,
           1,
           1,
           0,
           2,
           1,
           2,
           2,
           2,
           2,
           1,
           1,
           2,
           2,
           0,
           2,
           1,
           0,
           0,
           0,
           0,
           2,
           2,
           0,
           1,
           2,
           0,
           1,
           2,
           1,
           0,
           0,
           2,
           1,
           1,
           0,
           1,
           1,
           2,
           2,
           0,
           1,
           0,
           1,
           0,
           0,
           0,
           0,
           0,
           1,
           0,
           2,
           2,
           1,
           2,
           0,
           0,
           2,
           1,
           1,
           2,
           1,
           0,
           1,
           0,
           0,
           0,
           0,
           2,
           2,
           1,
           0,
           2,
           2,
           1,
           1,
           1,
           2,
           2,
           0,
           0,
           2,
           1,
           1,
           1,
           1,
           1,
           1,
           0,
           2,
           2,
           0,
           2,
           2,
           0,
           1,
           0,
           2,
           1,
           2,
           2,
           1,
           1,
           2,
           0,
           2,
           2,
           1,
           1,
           1,
           2,
           2,
           0,
           2,
           1,
           1,
           0,
           0,
           1,
           0,
           1,
           0,
           0,
           0,
           2,
           1,
           0,
           2,
           0,
           1,
           0,
           0,
           1,
           2,
           2,
           2,
           0,
           1,
           2,
           2,
           1,
           1,
           2,
           0,
           0,
           0,
           0,
           0,
           0,
           0,
           0,
           2,
           0,
           2,
           2,
           1,
           0,
           1,
           0,
           1,
           0,
           2,
           2,
           2,
           0,
           1,
           1,
           2,
           0,
           1,
           2,
           2,
           0,
           0,
           2,
           0,
           2,
           1,
           2,
           2,
           2,
           1,
           0,
           1,
           0,
           1,
           1,
           2,
           2,
           0,
           1,
           1,
           0,
           0,
           0,
           0,
           0,
           0,
           0,
           1,
           1,
           0,
           2,
           1,
           2,
           2,
           0,
           0,
           0,
           1,
           0,
           2,
           2,
           2,
           2,
           2,
           1,
           1,
           2,
           1,
           2,
           0,
           1,
           0,
           2,
           1,
           0,
           2,
           1,
           0,
           0,
           2,
           1,
           0,
           1,
           2,
           2,
           2,
           1,
           1,
           0,
           1,
           1,
           2,
           1,
           0,
           2,
           2,
           2,
           0,
           1,
           1,
           1,
           0,
           1,
           2,
           2,
           1,
           2,
           1,
           2,
           2,
           1,
           0,
           1,
           2,
           2,
           0,
           1,
           0,
           0,
           0,
           2,
           0,
           2,
           0,
           2,
           1,
           1,
           2,
           2,
           1,
           1,
           0,
           1,
           2,
           1,
           1,
           2,
           0,
           2,
           0,
           0,
           2,
           1,
           2,
           1,
           2,
           2,
           1,
           0,
           1,
           1,
           2,
           0,
           2,
           1,
           1,
           2,
           1,
           1,
           2,
           2,
           2,
           2,
           1,
           0,
           1,
           1,
           1,
           2,
           1,
           1,
           2,
           1,
           1,
           2,
           2,
           0,
           2,
           1,
           1,
           2,
           2,
           2,
           1,
           0,
           2,
           1,
           2,
           1,
           2,
           1,
           0,
           1,
           0,
           1,
           1,
           1,
           1,
           1,
           1,
           1,
           1,
           2,
           1,
           2,
           0,
           0,
           1,
           2,
           1,
           2,
           1,
           2,
           2,
           0,
           0,
           0,
           0,
           2,
           2,
           2,
           0,
           2
          ],
          "coloraxis": "coloraxis",
          "symbol": "circle"
         },
         "mode": "markers",
         "name": "",
         "orientation": "v",
         "showlegend": false,
         "type": "scatter",
         "x": [
          -1.3502061103588723,
          0.18228467994690892,
          -0.9915380530532638,
          -0.11117100330313426,
          -0.3068081254698297,
          -0.3394143124976123,
          -0.9263256789976987,
          0.0844661188635612,
          -0.600263808719873,
          -0.6328699957476555,
          -0.5350514346643077,
          1.2908950388915166,
          1.8125940313360378,
          -0.9263256789976987,
          0.24749705400247407,
          1.8452002183638203,
          -0.7632947438587858,
          -0.600263808719873,
          -0.9263256789976987,
          0.41052798914138694,
          1.2908950388915166,
          -0.5024452476365252,
          0.44313417616916956,
          0.8670146075303431,
          -0.9915380530532638,
          1.5843507221415598,
          1.2908950388915166,
          0.9648331686136907,
          -1.121962801164394,
          1.0626517296970386,
          1.6821692832249076,
          -0.3720204995253949,
          0.8018022334747779,
          -0.7959009308865683,
          -1.0893566141366116,
          -0.8611133049421336,
          -1.4154184844144373,
          1.8452002183638203,
          -1.2523875492755245,
          0.6061651113080825,
          -0.9263256789976987,
          -0.8611133049421336,
          -1.2523875492755245,
          0.6713774853636476,
          -0.7959009308865683,
          -0.9915380530532638,
          -1.3828122973866548,
          -1.2523875492755245,
          1.943018779447168,
          1.3887135999748643,
          -0.7632947438587858,
          1.8452002183638203,
          -1.056750427108829,
          1.4539259740304293,
          1.5191383480859946,
          -1.44802467144222,
          -0.4698390606087426,
          1.3887135999748643,
          -1.056750427108829,
          0.24749705400247407,
          0.24749705400247407,
          -1.284993736303307,
          -0.9915380530532638,
          0.3453156150858218,
          1.3561074129470816,
          -0.11117100330313426,
          -1.3828122973866548,
          -0.11117100330313426,
          0.9648331686136907,
          0.24749705400247407,
          -0.1763833773586994,
          0.28010324103025663,
          -0.27420193844204716,
          0.05185993183577862,
          1.4539259740304293,
          -1.056750427108829,
          -0.24159575141426456,
          0.4757403631969521,
          -1.0893566141366116,
          0.28010324103025663,
          -1.2523875492755245,
          -0.5350514346643077,
          -1.3828122973866548,
          1.8125940313360378,
          -1.0241442400810463,
          1.8452002183638203,
          1.2256826648359513,
          -0.43723287358096,
          -0.9589318660254813,
          -0.43723287358096,
          -0.9263256789976987,
          -0.7306885568310032,
          -0.5676576216920903,
          -1.4154184844144373,
          0.5083465502247347,
          1.1930764778081688,
          1.7473816572804726,
          1.3561074129470816,
          -0.7959009308865683,
          0.4757403631969521,
          -0.11117100330313426,
          -0.1763833773586994,
          1.258288851863734,
          -0.3720204995253949,
          0.7691960464469954,
          -0.6980823698032207,
          1.7799878443082553,
          0.8344084205025605,
          -0.6328699957476555,
          0.2148908669746915,
          -1.5458432325255675,
          1.6821692832249076,
          -0.9263256789976987,
          1.551744535113777,
          -0.3394143124976123,
          1.551744535113777,
          -0.11117100330313426,
          0.3453156150858218,
          0.18228467994690892,
          -0.07856481627535168,
          1.5843507221415598,
          -0.3068081254698297,
          -1.513237045497785,
          0.14967849291912635,
          0.05185993183577862,
          -0.600263808719873,
          0.41052798914138694,
          1.2256826648359513,
          1.2256826648359513,
          -0.7632947438587858,
          1.0626517296970386,
          -1.3502061103588723,
          -1.0893566141366116,
          0.31270942805803925,
          -0.07856481627535168,
          1.5191383480859946,
          1.551744535113777,
          -1.4154184844144373,
          0.2148908669746915,
          -0.208989564386482,
          -1.3175999233310896,
          -0.3394143124976123,
          -1.2197813622477418,
          0.4757403631969521,
          -1.4806308584700025,
          0.05185993183577862,
          1.71477547025269,
          -0.9589318660254813,
          1.5843507221415598,
          -1.3828122973866548,
          1.2256826648359513,
          1.486532161058212,
          0.8996207945581256,
          -1.3175999233310896,
          1.3887135999748643,
          1.4539259740304293,
          1.1278641037526036,
          -0.14377719033091685,
          -1.3502061103588723,
          1.0626517296970386,
          1.943018779447168,
          -0.07856481627535168,
          -0.07856481627535168,
          -1.513237045497785,
          -1.4154184844144373,
          -1.3502061103588723,
          0.31270942805803925,
          -0.208989564386482,
          1.2908950388915166,
          -0.04595862924756911,
          -0.8285071179143509,
          -0.9263256789976987,
          1.323501225919299,
          -0.208989564386482,
          0.14967849291912635,
          0.8996207945581256,
          -0.7959009308865683,
          0.44313417616916956,
          -1.1871751752199593,
          -1.284993736303307,
          -1.121962801164394,
          -1.5784494195533503,
          -0.1763833773586994,
          -0.5024452476365252,
          -0.7306885568310032,
          -1.3175999233310896,
          1.1930764778081688,
          -0.6328699957476555,
          0.41052798914138694,
          1.3561074129470816,
          1.551744535113777,
          1.1930764778081688,
          1.7473816572804726,
          -1.121962801164394,
          -1.284993736303307,
          0.8996207945581256,
          0.24749705400247407,
          -0.5676576216920903,
          1.4539259740304293,
          0.4757403631969521,
          -1.5458432325255675,
          0.28010324103025663,
          1.6821692832249076,
          0.7365898594192127,
          -0.6980823698032207,
          -0.04595862924756911,
          0.3453156150858218,
          1.7799878443082553,
          0.3453156150858218,
          0.3453156150858218,
          -1.2523875492755245,
          -1.1871751752199593,
          1.943018779447168,
          0.05185993183577862,
          1.1930764778081688,
          -0.5024452476365252,
          1.943018779447168,
          1.1278641037526036,
          0.9974393556414733,
          1.7473816572804726,
          0.8018022334747779,
          -0.4698390606087426,
          1.3887135999748643,
          -0.6654761827754381,
          -1.4154184844144373,
          -0.5024452476365252,
          -0.9915380530532638,
          0.8344084205025605,
          1.0626517296970386,
          -1.284993736303307,
          0.0844661188635612,
          -0.5024452476365252,
          -1.1545689881921768,
          -0.3068081254698297,
          1.1930764778081688,
          0.44313417616916956,
          1.6495630961971248,
          1.486532161058212,
          0.8018022334747779,
          1.6169569091693423,
          -0.6654761827754381,
          -0.6328699957476555,
          0.41052798914138694,
          1.8452002183638203,
          -0.8611133049421336,
          -1.1545689881921768,
          0.4757403631969521,
          0.2148908669746915,
          -0.3720204995253949,
          -1.4154184844144373,
          -1.1545689881921768,
          1.8125940313360378,
          0.9322269815859082,
          -0.7306885568310032,
          0.3779218021136044,
          0.2148908669746915,
          -0.24159575141426456,
          -0.3394143124976123,
          0.31270942805803925,
          0.01925374480799604,
          1.3561074129470816,
          -0.7632947438587858,
          -1.2523875492755245,
          1.3887135999748643,
          -1.4154184844144373,
          -1.1871751752199593,
          1.551744535113777,
          -0.3720204995253949,
          1.258288851863734,
          -0.9915380530532638,
          -0.4698390606087426,
          -0.8937194919699161,
          -1.056750427108829,
          -0.07856481627535168,
          -0.40462668655317746,
          -1.1871751752199593,
          1.2908950388915166,
          -1.4154184844144373,
          -0.7632947438587858,
          0.4757403631969521,
          -0.11117100330313426,
          0.3453156150858218,
          -0.8937194919699161,
          -1.4154184844144373,
          1.8778064053916028,
          -1.056750427108829,
          0.18228467994690892,
          -0.3068081254698297,
          1.5191383480859946,
          1.71477547025269,
          0.5083465502247347,
          1.8125940313360378,
          -0.43723287358096,
          0.9974393556414733,
          1.5843507221415598,
          1.0300455426692559,
          -1.056750427108829,
          0.0844661188635612,
          1.2256826648359513,
          -1.3828122973866548,
          1.095257916724821,
          0.3453156150858218,
          1.323501225919299,
          0.7691960464469954,
          -0.5676576216920903,
          -1.4806308584700025,
          -0.9263256789976987,
          -1.056750427108829,
          1.0626517296970386,
          -0.5350514346643077,
          -0.9589318660254813,
          -0.6654761827754381,
          -0.11117100330313426,
          -0.208989564386482,
          -0.9915380530532638,
          1.1604702907803863,
          0.7691960464469954,
          0.8996207945581256,
          1.323501225919299,
          0.5735589242802999,
          0.9648331686136907,
          1.323501225919299,
          0.8996207945581256,
          -0.8611133049421336,
          1.1930764778081688,
          -0.7306885568310032,
          -1.3828122973866548,
          0.24749705400247407,
          0.9322269815859082,
          0.28010324103025663,
          1.2908950388915166,
          -0.4698390606087426,
          1.1930764778081688,
          -0.6328699957476555,
          -1.3175999233310896,
          -0.8937194919699161,
          1.4213197870026468,
          -0.27420193844204716,
          -0.5024452476365252,
          -1.0893566141366116,
          0.5409527372525172,
          -0.11117100330313426,
          -1.121962801164394,
          -1.4806308584700025,
          1.5843507221415598,
          1.1604702907803863,
          -0.8285071179143509,
          1.1604702907803863,
          -0.7959009308865683,
          -0.04595862924756911,
          -0.9263256789976987,
          -0.8937194919699161,
          -1.1545689881921768,
          0.2148908669746915,
          1.4213197870026468,
          0.0844661188635612,
          1.1604702907803863,
          0.2148908669746915,
          -0.04595862924756911,
          -0.8937194919699161,
          -1.284993736303307,
          0.8996207945581256,
          0.2148908669746915,
          -0.3068081254698297,
          0.8344084205025605,
          1.258288851863734,
          1.6495630961971248,
          1.095257916724821,
          0.9322269815859082,
          1.0300455426692559,
          1.1930764778081688,
          -0.40462668655317746,
          -0.1763833773586994,
          1.5191383480859946,
          -1.2197813622477418,
          0.14967849291912635,
          -1.513237045497785,
          -0.9589318660254813,
          1.2256826648359513,
          1.4213197870026468,
          1.1930764778081688,
          0.31270942805803925,
          0.8670146075303431,
          -1.0893566141366116,
          -0.6654761827754381,
          -1.1871751752199593,
          -1.5458432325255675,
          -1.3828122973866548,
          0.4757403631969521,
          -0.5350514346643077,
          -1.4154184844144373,
          0.11707230589134378,
          -1.121962801164394,
          0.8996207945581256,
          -0.3720204995253949,
          1.2256826648359513,
          -0.8611133049421336,
          0.18228467994690892,
          1.3561074129470816,
          -1.513237045497785,
          0.28010324103025663,
          0.8018022334747779,
          0.8018022334747779,
          -0.5676576216920903,
          -0.11117100330313426,
          1.8778064053916028,
          -0.5350514346643077,
          -0.8937194919699161,
          -0.8611133049421336,
          -1.284993736303307,
          0.3453156150858218,
          -0.3068081254698297,
          0.9322269815859082,
          0.44313417616916956,
          -0.208989564386482,
          -1.2197813622477418,
          -0.27420193844204716,
          1.4539259740304293,
          -1.3175999233310896,
          -0.8937194919699161,
          -1.44802467144222,
          0.9648331686136907,
          -0.5350514346643077,
          0.2148908669746915,
          0.24749705400247407,
          0.7365898594192127,
          0.05185993183577862,
          -1.3502061103588723,
          -0.8937194919699161,
          0.3453156150858218,
          -1.2197813622477418,
          -0.40462668655317746,
          -0.9915380530532638,
          -0.8285071179143509,
          0.3453156150858218,
          1.4213197870026468,
          -0.07856481627535168,
          -0.600263808719873,
          -1.0893566141366116,
          0.5409527372525172,
          -0.3720204995253949,
          1.4213197870026468,
          1.4539259740304293,
          0.9322269815859082,
          -1.121962801164394,
          0.8670146075303431,
          -1.4154184844144373,
          1.1604702907803863,
          -0.8285071179143509,
          0.44313417616916956,
          -0.27420193844204716,
          -1.1871751752199593,
          -1.284993736303307,
          0.01925374480799604,
          -0.07856481627535168,
          0.9322269815859082,
          -0.600263808719873,
          -0.6654761827754381,
          -0.40462668655317746,
          -0.27420193844204716,
          -1.1545689881921768,
          0.5409527372525172,
          -0.6654761827754381,
          1.486532161058212,
          1.2908950388915166,
          -0.7959009308865683,
          0.24749705400247407,
          -1.5458432325255675,
          0.18228467994690892,
          -0.8285071179143509,
          -0.6980823698032207,
          0.05185993183577862,
          0.9974393556414733,
          -0.5024452476365252,
          0.3779218021136044,
          -0.6980823698032207,
          1.323501225919299,
          -1.1871751752199593,
          -0.4698390606087426,
          -0.3068081254698297,
          -1.0893566141366116,
          -0.3720204995253949,
          -0.013352442219786534,
          -1.0241442400810463,
          -1.0893566141366116,
          -1.284993736303307,
          -1.3175999233310896,
          -0.27420193844204716,
          0.5735589242802999,
          0.14967849291912635,
          0.11707230589134378,
          -0.3068081254698297,
          -0.7959009308865683,
          0.05185993183577862,
          -0.5350514346643077,
          -0.8285071179143509,
          -0.11117100330313426,
          -0.3394143124976123,
          -0.9915380530532638,
          -1.1545689881921768,
          1.71477547025269,
          -1.0241442400810463,
          -0.11117100330313426,
          -0.11117100330313426,
          -1.513237045497785,
          -1.1871751752199593,
          -1.513237045497785,
          -0.4698390606087426,
          1.943018779447168,
          -0.8611133049421336,
          0.3453156150858218,
          -1.0241442400810463,
          0.3779218021136044,
          -0.6654761827754381,
          -0.5676576216920903,
          1.2256826648359513,
          -0.600263808719873,
          1.258288851863734,
          0.05185993183577862,
          -0.3068081254698297,
          0.01925374480799604,
          -0.04595862924756911,
          0.31270942805803925,
          0.28010324103025663,
          0.44313417616916956,
          0.41052798914138694,
          -1.1545689881921768,
          -0.3068081254698297,
          -1.0241442400810463,
          1.71477547025269,
          0.8996207945581256,
          -0.3720204995253949,
          -0.7959009308865683,
          0.4757403631969521,
          -0.8285071179143509,
          -0.5024452476365252,
          -1.3828122973866548,
          -0.8611133049421336,
          1.4539259740304293,
          1.943018779447168,
          0.9974393556414733,
          0.8018022334747779,
          -0.8611133049421336,
          -1.2197813622477418,
          -1.0893566141366116,
          0.7365898594192127,
          -1.3175999233310896
         ],
         "xaxis": "x",
         "y": [
          -1.5195899137322255,
          0.3213060924944734,
          -1.0593659121755508,
          0.014490091456690259,
          -0.2156219093216471,
          -0.3945979099270206,
          -0.9059579116566592,
          0.2190340921485457,
          -0.5735739105323941,
          -0.49686991027294836,
          -0.4713019101864664,
          1.1139140951754132,
          1.574138096732088,
          -1.008229912002587,
          0.500282093099847,
          1.574138096732088,
          -0.7269819110512857,
          -0.5480059104459122,
          -0.9059579116566592,
          0.5514180932728108,
          1.216186095521341,
          -0.42016591001350256,
          0.6536900936187385,
          0.9605060946565217,
          -1.0337979120890688,
          1.4718660963861603,
          1.0883460950889312,
          0.9605060946565217,
          -1.1105019123485147,
          1.0627780950024495,
          1.548570096645606,
          -0.2923259095810929,
          1.0372100949159675,
          -0.6502779107918399,
          -1.1872059126079604,
          -0.9570939118296231,
          -1.5451579138187075,
          1.4718660963861603,
          -1.4684539135592616,
          0.6536900936187385,
          -0.8803899115701773,
          -0.8036859113107315,
          -1.340613913126852,
          0.6792580937052204,
          -0.7525499111377676,
          -1.0337979120890688,
          -1.5451579138187075,
          -1.391749913299816,
          1.574138096732088,
          1.2673220956943048,
          -0.7014139109648038,
          1.574138096732088,
          -1.0593659121755508,
          1.2673220956943048,
          1.4207300962131963,
          -1.6474299141646351,
          -0.34346190975405677,
          1.2417540956078228,
          -1.1360699124349967,
          0.3213060924944734,
          0.3980100927539192,
          -1.391749913299816,
          -1.1872059126079604,
          0.500282093099847,
          1.4207300962131963,
          -0.08778190888923747,
          -1.5451579138187075,
          1.5230020965591242,
          0.8582340943105939,
          0.3724420926674373,
          -0.062213908802755534,
          0.5769860933592927,
          -0.2156219093216471,
          0.040058091543172185,
          1.3440260959537507,
          -1.0849339122620327,
          -0.011077908629791671,
          0.6792580937052204,
          -1.008229912002587,
          0.500282093099847,
          -1.5195899137322255,
          -0.42016591001350256,
          -1.5451579138187075,
          1.574138096732088,
          -1.2383419127809243,
          1.4718660963861603,
          1.0883460950889312,
          -0.31789390966757486,
          -1.008229912002587,
          -0.31789390966757486,
          -0.8292539113972134,
          -0.7014139109648038,
          -0.4713019101864664,
          -1.6218619140781532,
          0.8070980941376301,
          1.0627780950024495,
          1.3695940960402326,
          1.2417540956078228,
          -0.6758459108783218,
          0.474714093013365,
          -0.08778190888923747,
          -0.0366459087162736,
          1.2928900957807867,
          -0.2156219093216471,
          0.7559620939646662,
          -0.7014139109648038,
          1.4462980962996783,
          0.8582340943105939,
          -0.4713019101864664,
          0.3724420926674373,
          -1.672997914251117,
          1.3184580958672687,
          -0.982661911916105,
          1.3184580958672687,
          -0.16448590914868325,
          1.3184580958672687,
          0.06562609162965412,
          0.42357809284040115,
          0.34687409258095536,
          -0.062213908802755534,
          1.3695940960402326,
          -0.0366459087162736,
          -1.5962939139916714,
          0.1423300918890999,
          0.1423300918890999,
          -0.4713019101864664,
          0.6281220935322566,
          1.1139140951754132,
          1.2417540956078228,
          -0.8292539113972134,
          0.9605060946565217,
          -1.4428859134727798,
          -1.1872059126079604,
          0.44914609292688307,
          -0.011077908629791671,
          1.3184580958672687,
          1.3440260959537507,
          -1.6218619140781532,
          0.24460209223502763,
          -0.19005390923516519,
          -1.4173179133862979,
          -0.31789390966757486,
          -1.4428859134727798,
          0.500282093099847,
          -1.672997914251117,
          -0.0366459087162736,
          1.4462980962996783,
          -0.8803899115701773,
          1.4207300962131963,
          -1.5451579138187075,
          1.3184580958672687,
          1.3440260959537507,
          0.8838020943970759,
          -1.4684539135592616,
          1.2928900957807867,
          1.3184580958672687,
          1.0883460950889312,
          -0.08778190888923747,
          -1.4173179133862979,
          0.9860740947430036,
          1.548570096645606,
          0.040058091543172185,
          0.040058091543172185,
          -1.4940219136457435,
          -1.5451579138187075,
          -1.391749913299816,
          0.500282093099847,
          -0.08778190888923747,
          1.0627780950024495,
          -0.011077908629791671,
          -0.9570939118296231,
          -0.9315259117431411,
          1.3951620961267144,
          -0.08778190888923747,
          0.09119409171613604,
          0.8838020943970759,
          -0.8036859113107315,
          0.6025540934457746,
          -1.4173179133862979,
          -1.391749913299816,
          -1.1616379125214784,
          -1.749701914510563,
          -0.08778190888923747,
          -0.3690299098405387,
          -0.7269819110512857,
          -1.6218619140781532,
          1.0883460950889312,
          -0.4713019101864664,
          0.6025540934457746,
          1.2928900957807867,
          1.4207300962131963,
          1.2673220956943048,
          1.574138096732088,
          -1.2383419127809243,
          -1.5707259139051895,
          1.0372100949159675,
          0.19346609206206378,
          -0.599141910618876,
          1.3695940960402326,
          0.7815300940511481,
          -1.749701914510563,
          0.474714093013365,
          1.3951620961267144,
          0.832666094224112,
          -0.624709910705358,
          -0.0366459087162736,
          0.34687409258095536,
          1.4462980962996783,
          0.474714093013365,
          0.42357809284040115,
          -1.391749913299816,
          -1.4173179133862979,
          1.59970609681857,
          0.09119409171613604,
          1.1394820952618951,
          -0.3945979099270206,
          1.6252740969050519,
          1.0883460950889312,
          0.9605060946565217,
          1.3951620961267144,
          0.8582340943105939,
          -0.34346190975405677,
          1.2928900957807867,
          -0.624709910705358,
          -1.6474299141646351,
          -0.49686991027294836,
          -0.982661911916105,
          0.7303940938781843,
          1.0372100949159675,
          -1.4684539135592616,
          0.2190340921485457,
          -0.3690299098405387,
          -1.2383419127809243,
          -0.31789390966757486,
          1.1650500953483771,
          0.5258500931863288,
          1.4462980962996783,
          1.3440260959537507,
          0.8582340943105939,
          1.3695940960402326,
          -0.599141910618876,
          -0.5735739105323941,
          0.6281220935322566,
          1.59970609681857,
          -0.7269819110512857,
          -1.2639099128674063,
          0.6281220935322566,
          0.5258500931863288,
          -0.24118990940812904,
          -1.5451579138187075,
          -1.2894779129538883,
          1.4462980962996783,
          0.8838020943970759,
          -0.6502779107918399,
          0.6536900936187385,
          0.19346609206206378,
          -0.0366459087162736,
          -0.19005390923516519,
          0.474714093013365,
          0.040058091543172185,
          1.2673220956943048,
          -0.8036859113107315,
          -1.5962939139916714,
          1.3695940960402326,
          -1.5451579138187075,
          -1.1360699124349967,
          1.4207300962131963,
          -0.1133499089757194,
          1.216186095521341,
          -1.0849339122620327,
          -0.2156219093216471,
          -0.6758459108783218,
          -1.1360699124349967,
          0.09119409171613604,
          -0.13891790906220133,
          -1.2383419127809243,
          1.2417540956078228,
          -1.6474299141646351,
          -0.6758459108783218,
          0.6536900936187385,
          -0.7014139109648038,
          0.5258500931863288,
          -0.8292539113972134,
          -1.749701914510563,
          1.6508420969915338,
          -1.0849339122620327,
          0.3213060924944734,
          -0.08778190888923747,
          1.3440260959537507,
          1.4718660963861603,
          0.5769860933592927,
          1.4718660963861603,
          -0.31789390966757486,
          0.9860740947430036,
          1.3695940960402326,
          1.1139140951754132,
          -1.2127739126944423,
          0.27017009232150957,
          1.1139140951754132,
          -1.5962939139916714,
          1.190618095434859,
          0.500282093099847,
          1.4207300962131963,
          0.7303940938781843,
          -0.42016591001350256,
          -1.6474299141646351,
          -0.8036859113107315,
          -1.0337979120890688,
          1.1650500953483771,
          -0.5224379103594303,
          -0.9570939118296231,
          -0.5480059104459122,
          -0.062213908802755534,
          -0.1133499089757194,
          -1.008229912002587,
          1.1139140951754132,
          0.8582340943105939,
          1.0627780950024495,
          1.3184580958672687,
          0.7815300940511481,
          1.0372100949159675,
          1.2673220956943048,
          0.8582340943105939,
          -0.7525499111377676,
          1.216186095521341,
          -0.624709910705358,
          -1.5707259139051895,
          0.34687409258095536,
          1.0116420948294855,
          0.5769860933592927,
          1.216186095521341,
          -0.3945979099270206,
          1.1650500953483771,
          -0.5480059104459122,
          -1.391749913299816,
          -0.8803899115701773,
          1.3184580958672687,
          -0.011077908629791671,
          -0.3690299098405387,
          -1.31504591304037,
          0.8070980941376301,
          -0.1133499089757194,
          -1.0593659121755508,
          -1.6218619140781532,
          1.3951620961267144,
          1.190618095434859,
          -0.9059579116566592,
          1.0372100949159675,
          -0.8292539113972134,
          0.11676209180261798,
          -0.8548219114836954,
          -1.0337979120890688,
          -1.2127739126944423,
          0.3724420926674373,
          1.2928900957807867,
          0.16789809197558184,
          1.1650500953483771,
          0.2190340921485457,
          -0.062213908802755534,
          -0.8803899115701773,
          -1.5962939139916714,
          0.8838020943970759,
          0.2957380924079915,
          -0.266757909494611,
          0.8582340943105939,
          1.3184580958672687,
          1.3695940960402326,
          1.1139140951754132,
          0.8838020943970759,
          1.1394820952618951,
          1.2417540956078228,
          -0.2923259095810929,
          0.014490091456690259,
          1.3184580958672687,
          -1.2383419127809243,
          0.16789809197558184,
          -1.698565914337599,
          -0.982661911916105,
          1.3695940960402326,
          1.3951620961267144,
          1.2417540956078228,
          0.5258500931863288,
          0.8582340943105939,
          -1.0849339122620327,
          -0.6502779107918399,
          -1.2639099128674063,
          -1.5962939139916714,
          -1.672997914251117,
          0.7048260937917024,
          -0.49686991027294836,
          -1.5451579138187075,
          0.24460209223502763,
          -1.391749913299816,
          1.0627780950024495,
          -0.2923259095810929,
          1.190618095434859,
          -0.599141910618876,
          0.3213060924944734,
          1.2673220956943048,
          -1.6474299141646351,
          0.6281220935322566,
          0.7815300940511481,
          0.8582340943105939,
          -0.5480059104459122,
          0.24460209223502763,
          1.4718660963861603,
          -0.3690299098405387,
          -0.7525499111377676,
          -1.0593659121755508,
          -1.5707259139051895,
          0.5514180932728108,
          -0.19005390923516519,
          1.0372100949159675,
          0.6025540934457746,
          -0.0366459087162736,
          -1.340613913126852,
          -0.1133499089757194,
          1.4207300962131963,
          -1.366181913213334,
          -0.8036859113107315,
          -1.672997914251117,
          1.0627780950024495,
          -0.2923259095810929,
          0.19346609206206378,
          0.44914609292688307,
          0.7303940938781843,
          0.11676209180261798,
          -1.5195899137322255,
          -0.8036859113107315,
          0.474714093013365,
          -1.2894779129538883,
          -0.2156219093216471,
          -1.0849339122620327,
          -1.0593659121755508,
          0.3724420926674373,
          1.4207300962131963,
          0.1423300918890999,
          -0.5224379103594303,
          -1.0849339122620327,
          0.7303940938781843,
          -0.1133499089757194,
          1.2673220956943048,
          1.2928900957807867,
          0.9349380945700397,
          -1.1360699124349967,
          0.9349380945700397,
          -1.5962939139916714,
          1.1139140951754132,
          -0.7014139109648038,
          0.6281220935322566,
          -0.24118990940812904,
          -1.1616379125214784,
          -1.4428859134727798,
          -0.0366459087162736,
          0.014490091456690259,
          0.9860740947430036,
          -0.2923259095810929,
          -0.7269819110512857,
          -0.2156219093216471,
          -0.19005390923516519,
          -1.1616379125214784,
          0.8582340943105939,
          -0.624709910705358,
          1.4462980962996783,
          1.2417540956078228,
          -0.7014139109648038,
          0.500282093099847,
          -1.672997914251117,
          0.3724420926674373,
          -0.7781179112242496,
          -0.6502779107918399,
          0.06562609162965412,
          1.1139140951754132,
          -0.266757909494611,
          0.3724420926674373,
          -0.6758459108783218,
          1.3184580958672687,
          -1.2894779129538883,
          -0.34346190975405677,
          -0.16448590914868325,
          -1.0849339122620327,
          -0.19005390923516519,
          -0.062213908802755534,
          -0.9570939118296231,
          -1.1105019123485147,
          -1.391749913299816,
          -1.5195899137322255,
          -0.011077908629791671,
          0.7303940938781843,
          0.1423300918890999,
          0.040058091543172185,
          -0.2923259095810929,
          -0.624709910705358,
          0.014490091456690259,
          -0.3945979099270206,
          -0.9570939118296231,
          0.06562609162965412,
          -0.31789390966757486,
          -1.0593659121755508,
          -1.1105019123485147,
          1.574138096732088,
          -0.9315259117431411,
          1.0372100949159675,
          -0.062213908802755534,
          -1.6474299141646351,
          -1.366181913213334,
          -1.698565914337599,
          -0.3690299098405387,
          1.6508420969915338,
          -0.9315259117431411,
          0.6281220935322566,
          -1.1105019123485147,
          0.5258500931863288,
          -0.49686991027294836,
          -0.4713019101864664,
          1.1650500953483771,
          -0.42016591001350256,
          1.216186095521341,
          0.1423300918890999,
          -0.062213908802755534,
          0.014490091456690259,
          0.040058091543172185,
          0.5514180932728108,
          0.19346609206206378,
          0.6025540934457746,
          0.5258500931863288,
          -1.2127739126944423,
          -0.31789390966757486,
          -1.1872059126079604,
          1.3951620961267144,
          1.0372100949159675,
          -0.13891790906220133,
          -0.7525499111377676,
          0.5769860933592927,
          -1.008229912002587,
          -0.4457339100999845,
          -1.4940219136457435,
          -0.7781179112242496,
          1.3440260959537507,
          1.4718660963861603,
          0.9605060946565217,
          0.7303940938781843,
          -0.8292539113972134,
          -1.4173179133862979,
          -1.2894779129538883,
          0.7559620939646662,
          -1.5451579138187075
         ],
         "yaxis": "y"
        },
        {
         "hovertemplate": "x=%{x}<br>y=%{y}<br>size=%{marker.size}<extra></extra>",
         "legendgroup": "",
         "marker": {
          "color": "#636efa",
          "size": [
           7,
           7,
           7
          ],
          "sizemode": "area",
          "sizeref": 0.0175,
          "symbol": "circle"
         },
         "mode": "markers",
         "name": "",
         "orientation": "v",
         "showlegend": false,
         "type": "scatter",
         "x": [
          1.2609899561145559,
          -0.045785192082527716,
          -1.076314139325499
         ],
         "xaxis": "x",
         "y": [
          1.1950055037337228,
          0.07677809166737494,
          -1.1388958492866603
         ],
         "yaxis": "y"
        }
       ],
       "layout": {
        "template": {
         "data": {
          "bar": [
           {
            "error_x": {
             "color": "#2a3f5f"
            },
            "error_y": {
             "color": "#2a3f5f"
            },
            "marker": {
             "line": {
              "color": "#E5ECF6",
              "width": 0.5
             },
             "pattern": {
              "fillmode": "overlay",
              "size": 10,
              "solidity": 0.2
             }
            },
            "type": "bar"
           }
          ],
          "barpolar": [
           {
            "marker": {
             "line": {
              "color": "#E5ECF6",
              "width": 0.5
             },
             "pattern": {
              "fillmode": "overlay",
              "size": 10,
              "solidity": 0.2
             }
            },
            "type": "barpolar"
           }
          ],
          "carpet": [
           {
            "aaxis": {
             "endlinecolor": "#2a3f5f",
             "gridcolor": "white",
             "linecolor": "white",
             "minorgridcolor": "white",
             "startlinecolor": "#2a3f5f"
            },
            "baxis": {
             "endlinecolor": "#2a3f5f",
             "gridcolor": "white",
             "linecolor": "white",
             "minorgridcolor": "white",
             "startlinecolor": "#2a3f5f"
            },
            "type": "carpet"
           }
          ],
          "choropleth": [
           {
            "colorbar": {
             "outlinewidth": 0,
             "ticks": ""
            },
            "type": "choropleth"
           }
          ],
          "contour": [
           {
            "colorbar": {
             "outlinewidth": 0,
             "ticks": ""
            },
            "colorscale": [
             [
              0,
              "#0d0887"
             ],
             [
              0.1111111111111111,
              "#46039f"
             ],
             [
              0.2222222222222222,
              "#7201a8"
             ],
             [
              0.3333333333333333,
              "#9c179e"
             ],
             [
              0.4444444444444444,
              "#bd3786"
             ],
             [
              0.5555555555555556,
              "#d8576b"
             ],
             [
              0.6666666666666666,
              "#ed7953"
             ],
             [
              0.7777777777777778,
              "#fb9f3a"
             ],
             [
              0.8888888888888888,
              "#fdca26"
             ],
             [
              1,
              "#f0f921"
             ]
            ],
            "type": "contour"
           }
          ],
          "contourcarpet": [
           {
            "colorbar": {
             "outlinewidth": 0,
             "ticks": ""
            },
            "type": "contourcarpet"
           }
          ],
          "heatmap": [
           {
            "colorbar": {
             "outlinewidth": 0,
             "ticks": ""
            },
            "colorscale": [
             [
              0,
              "#0d0887"
             ],
             [
              0.1111111111111111,
              "#46039f"
             ],
             [
              0.2222222222222222,
              "#7201a8"
             ],
             [
              0.3333333333333333,
              "#9c179e"
             ],
             [
              0.4444444444444444,
              "#bd3786"
             ],
             [
              0.5555555555555556,
              "#d8576b"
             ],
             [
              0.6666666666666666,
              "#ed7953"
             ],
             [
              0.7777777777777778,
              "#fb9f3a"
             ],
             [
              0.8888888888888888,
              "#fdca26"
             ],
             [
              1,
              "#f0f921"
             ]
            ],
            "type": "heatmap"
           }
          ],
          "heatmapgl": [
           {
            "colorbar": {
             "outlinewidth": 0,
             "ticks": ""
            },
            "colorscale": [
             [
              0,
              "#0d0887"
             ],
             [
              0.1111111111111111,
              "#46039f"
             ],
             [
              0.2222222222222222,
              "#7201a8"
             ],
             [
              0.3333333333333333,
              "#9c179e"
             ],
             [
              0.4444444444444444,
              "#bd3786"
             ],
             [
              0.5555555555555556,
              "#d8576b"
             ],
             [
              0.6666666666666666,
              "#ed7953"
             ],
             [
              0.7777777777777778,
              "#fb9f3a"
             ],
             [
              0.8888888888888888,
              "#fdca26"
             ],
             [
              1,
              "#f0f921"
             ]
            ],
            "type": "heatmapgl"
           }
          ],
          "histogram": [
           {
            "marker": {
             "pattern": {
              "fillmode": "overlay",
              "size": 10,
              "solidity": 0.2
             }
            },
            "type": "histogram"
           }
          ],
          "histogram2d": [
           {
            "colorbar": {
             "outlinewidth": 0,
             "ticks": ""
            },
            "colorscale": [
             [
              0,
              "#0d0887"
             ],
             [
              0.1111111111111111,
              "#46039f"
             ],
             [
              0.2222222222222222,
              "#7201a8"
             ],
             [
              0.3333333333333333,
              "#9c179e"
             ],
             [
              0.4444444444444444,
              "#bd3786"
             ],
             [
              0.5555555555555556,
              "#d8576b"
             ],
             [
              0.6666666666666666,
              "#ed7953"
             ],
             [
              0.7777777777777778,
              "#fb9f3a"
             ],
             [
              0.8888888888888888,
              "#fdca26"
             ],
             [
              1,
              "#f0f921"
             ]
            ],
            "type": "histogram2d"
           }
          ],
          "histogram2dcontour": [
           {
            "colorbar": {
             "outlinewidth": 0,
             "ticks": ""
            },
            "colorscale": [
             [
              0,
              "#0d0887"
             ],
             [
              0.1111111111111111,
              "#46039f"
             ],
             [
              0.2222222222222222,
              "#7201a8"
             ],
             [
              0.3333333333333333,
              "#9c179e"
             ],
             [
              0.4444444444444444,
              "#bd3786"
             ],
             [
              0.5555555555555556,
              "#d8576b"
             ],
             [
              0.6666666666666666,
              "#ed7953"
             ],
             [
              0.7777777777777778,
              "#fb9f3a"
             ],
             [
              0.8888888888888888,
              "#fdca26"
             ],
             [
              1,
              "#f0f921"
             ]
            ],
            "type": "histogram2dcontour"
           }
          ],
          "mesh3d": [
           {
            "colorbar": {
             "outlinewidth": 0,
             "ticks": ""
            },
            "type": "mesh3d"
           }
          ],
          "parcoords": [
           {
            "line": {
             "colorbar": {
              "outlinewidth": 0,
              "ticks": ""
             }
            },
            "type": "parcoords"
           }
          ],
          "pie": [
           {
            "automargin": true,
            "type": "pie"
           }
          ],
          "scatter": [
           {
            "fillpattern": {
             "fillmode": "overlay",
             "size": 10,
             "solidity": 0.2
            },
            "type": "scatter"
           }
          ],
          "scatter3d": [
           {
            "line": {
             "colorbar": {
              "outlinewidth": 0,
              "ticks": ""
             }
            },
            "marker": {
             "colorbar": {
              "outlinewidth": 0,
              "ticks": ""
             }
            },
            "type": "scatter3d"
           }
          ],
          "scattercarpet": [
           {
            "marker": {
             "colorbar": {
              "outlinewidth": 0,
              "ticks": ""
             }
            },
            "type": "scattercarpet"
           }
          ],
          "scattergeo": [
           {
            "marker": {
             "colorbar": {
              "outlinewidth": 0,
              "ticks": ""
             }
            },
            "type": "scattergeo"
           }
          ],
          "scattergl": [
           {
            "marker": {
             "colorbar": {
              "outlinewidth": 0,
              "ticks": ""
             }
            },
            "type": "scattergl"
           }
          ],
          "scattermapbox": [
           {
            "marker": {
             "colorbar": {
              "outlinewidth": 0,
              "ticks": ""
             }
            },
            "type": "scattermapbox"
           }
          ],
          "scatterpolar": [
           {
            "marker": {
             "colorbar": {
              "outlinewidth": 0,
              "ticks": ""
             }
            },
            "type": "scatterpolar"
           }
          ],
          "scatterpolargl": [
           {
            "marker": {
             "colorbar": {
              "outlinewidth": 0,
              "ticks": ""
             }
            },
            "type": "scatterpolargl"
           }
          ],
          "scatterternary": [
           {
            "marker": {
             "colorbar": {
              "outlinewidth": 0,
              "ticks": ""
             }
            },
            "type": "scatterternary"
           }
          ],
          "surface": [
           {
            "colorbar": {
             "outlinewidth": 0,
             "ticks": ""
            },
            "colorscale": [
             [
              0,
              "#0d0887"
             ],
             [
              0.1111111111111111,
              "#46039f"
             ],
             [
              0.2222222222222222,
              "#7201a8"
             ],
             [
              0.3333333333333333,
              "#9c179e"
             ],
             [
              0.4444444444444444,
              "#bd3786"
             ],
             [
              0.5555555555555556,
              "#d8576b"
             ],
             [
              0.6666666666666666,
              "#ed7953"
             ],
             [
              0.7777777777777778,
              "#fb9f3a"
             ],
             [
              0.8888888888888888,
              "#fdca26"
             ],
             [
              1,
              "#f0f921"
             ]
            ],
            "type": "surface"
           }
          ],
          "table": [
           {
            "cells": {
             "fill": {
              "color": "#EBF0F8"
             },
             "line": {
              "color": "white"
             }
            },
            "header": {
             "fill": {
              "color": "#C8D4E3"
             },
             "line": {
              "color": "white"
             }
            },
            "type": "table"
           }
          ]
         },
         "layout": {
          "annotationdefaults": {
           "arrowcolor": "#2a3f5f",
           "arrowhead": 0,
           "arrowwidth": 1
          },
          "autotypenumbers": "strict",
          "coloraxis": {
           "colorbar": {
            "outlinewidth": 0,
            "ticks": ""
           }
          },
          "colorscale": {
           "diverging": [
            [
             0,
             "#8e0152"
            ],
            [
             0.1,
             "#c51b7d"
            ],
            [
             0.2,
             "#de77ae"
            ],
            [
             0.3,
             "#f1b6da"
            ],
            [
             0.4,
             "#fde0ef"
            ],
            [
             0.5,
             "#f7f7f7"
            ],
            [
             0.6,
             "#e6f5d0"
            ],
            [
             0.7,
             "#b8e186"
            ],
            [
             0.8,
             "#7fbc41"
            ],
            [
             0.9,
             "#4d9221"
            ],
            [
             1,
             "#276419"
            ]
           ],
           "sequential": [
            [
             0,
             "#0d0887"
            ],
            [
             0.1111111111111111,
             "#46039f"
            ],
            [
             0.2222222222222222,
             "#7201a8"
            ],
            [
             0.3333333333333333,
             "#9c179e"
            ],
            [
             0.4444444444444444,
             "#bd3786"
            ],
            [
             0.5555555555555556,
             "#d8576b"
            ],
            [
             0.6666666666666666,
             "#ed7953"
            ],
            [
             0.7777777777777778,
             "#fb9f3a"
            ],
            [
             0.8888888888888888,
             "#fdca26"
            ],
            [
             1,
             "#f0f921"
            ]
           ],
           "sequentialminus": [
            [
             0,
             "#0d0887"
            ],
            [
             0.1111111111111111,
             "#46039f"
            ],
            [
             0.2222222222222222,
             "#7201a8"
            ],
            [
             0.3333333333333333,
             "#9c179e"
            ],
            [
             0.4444444444444444,
             "#bd3786"
            ],
            [
             0.5555555555555556,
             "#d8576b"
            ],
            [
             0.6666666666666666,
             "#ed7953"
            ],
            [
             0.7777777777777778,
             "#fb9f3a"
            ],
            [
             0.8888888888888888,
             "#fdca26"
            ],
            [
             1,
             "#f0f921"
            ]
           ]
          },
          "colorway": [
           "#636efa",
           "#EF553B",
           "#00cc96",
           "#ab63fa",
           "#FFA15A",
           "#19d3f3",
           "#FF6692",
           "#B6E880",
           "#FF97FF",
           "#FECB52"
          ],
          "font": {
           "color": "#2a3f5f"
          },
          "geo": {
           "bgcolor": "white",
           "lakecolor": "white",
           "landcolor": "#E5ECF6",
           "showlakes": true,
           "showland": true,
           "subunitcolor": "white"
          },
          "hoverlabel": {
           "align": "left"
          },
          "hovermode": "closest",
          "mapbox": {
           "style": "light"
          },
          "paper_bgcolor": "white",
          "plot_bgcolor": "#E5ECF6",
          "polar": {
           "angularaxis": {
            "gridcolor": "white",
            "linecolor": "white",
            "ticks": ""
           },
           "bgcolor": "#E5ECF6",
           "radialaxis": {
            "gridcolor": "white",
            "linecolor": "white",
            "ticks": ""
           }
          },
          "scene": {
           "xaxis": {
            "backgroundcolor": "#E5ECF6",
            "gridcolor": "white",
            "gridwidth": 2,
            "linecolor": "white",
            "showbackground": true,
            "ticks": "",
            "zerolinecolor": "white"
           },
           "yaxis": {
            "backgroundcolor": "#E5ECF6",
            "gridcolor": "white",
            "gridwidth": 2,
            "linecolor": "white",
            "showbackground": true,
            "ticks": "",
            "zerolinecolor": "white"
           },
           "zaxis": {
            "backgroundcolor": "#E5ECF6",
            "gridcolor": "white",
            "gridwidth": 2,
            "linecolor": "white",
            "showbackground": true,
            "ticks": "",
            "zerolinecolor": "white"
           }
          },
          "shapedefaults": {
           "line": {
            "color": "#2a3f5f"
           }
          },
          "ternary": {
           "aaxis": {
            "gridcolor": "white",
            "linecolor": "white",
            "ticks": ""
           },
           "baxis": {
            "gridcolor": "white",
            "linecolor": "white",
            "ticks": ""
           },
           "bgcolor": "#E5ECF6",
           "caxis": {
            "gridcolor": "white",
            "linecolor": "white",
            "ticks": ""
           }
          },
          "title": {
           "x": 0.05
          },
          "xaxis": {
           "automargin": true,
           "gridcolor": "white",
           "linecolor": "white",
           "ticks": "",
           "title": {
            "standoff": 15
           },
           "zerolinecolor": "white",
           "zerolinewidth": 2
          },
          "yaxis": {
           "automargin": true,
           "gridcolor": "white",
           "linecolor": "white",
           "ticks": "",
           "title": {
            "standoff": 15
           },
           "zerolinecolor": "white",
           "zerolinewidth": 2
          }
         }
        }
       }
      }
     },
     "metadata": {},
     "output_type": "display_data"
    }
   ],
   "source": [
    "# Clustering scatterplot\n",
    "centroids_df = model_df.cluster_centers_\n",
    "\n",
    "samples_plot = px.scatter(x=samples_df[:,0], y=samples_df[:,1], color=labels_df)\n",
    "centroids_plot = px.scatter(x=centroids_df[:,0], y=centroids_df[:,1], size=[7,7,7])\n",
    "final_plot = go.Figure(data=samples_plot.data + centroids_plot.data)\n",
    "final_plot.show()"
   ]
  },
  {
   "cell_type": "markdown",
   "metadata": {},
   "source": [
    "### Experience vs Salary"
   ]
  },
  {
   "cell_type": "code",
   "execution_count": 49,
   "metadata": {},
   "outputs": [],
   "source": [
    "# Choosing the features\n",
    "df_salary = final_df[['experiencia', 'salario']]\n",
    "df_salary = scaler.fit_transform(df_salary)"
   ]
  },
  {
   "cell_type": "code",
   "execution_count": 50,
   "metadata": {},
   "outputs": [
    {
     "name": "stdout",
     "output_type": "stream",
     "text": [
      "Cluster: 0 - WCSS value: 1094.0000000000002\n",
      "Cluster: 1 - WCSS value: 451.5192164245342\n",
      "Cluster: 2 - WCSS value: 277.96104172523303\n",
      "Cluster: 3 - WCSS value: 211.22094025149246\n",
      "Cluster: 4 - WCSS value: 172.18708629962325\n",
      "Cluster: 5 - WCSS value: 150.9794368399773\n",
      "Cluster: 6 - WCSS value: 131.4705470192416\n",
      "Cluster: 7 - WCSS value: 116.05147816000522\n",
      "Cluster: 8 - WCSS value: 102.52871966580958\n",
      "Cluster: 9 - WCSS value: 91.09264401553529\n"
     ]
    }
   ],
   "source": [
    "# Finding # of clusters using the elbow method (WCSS)\n",
    "wcss_salary = []\n",
    "\n",
    "for i in range(1,11):\n",
    "    model_salary = KMeans(n_clusters=i, random_state=0, n_init=10, init='k-means++')\n",
    "    model_salary.fit_predict(df_salary)\n",
    "    wcss_salary.append(model_salary.inertia_)\n",
    "\n",
    "# Visualizing WCSS values\n",
    "for i in range(len(wcss_salary)):\n",
    "    print('Cluster:', i, '- WCSS value:', wcss_salary[i])"
   ]
  },
  {
   "cell_type": "code",
   "execution_count": 51,
   "metadata": {},
   "outputs": [
    {
     "data": {
      "application/vnd.plotly.v1+json": {
       "config": {
        "plotlyServerURL": "https://plot.ly"
       },
       "data": [
        {
         "hovertemplate": "x=%{x}<br>y=%{y}<extra></extra>",
         "legendgroup": "",
         "line": {
          "color": "#636efa",
          "dash": "solid"
         },
         "marker": {
          "symbol": "circle"
         },
         "mode": "lines",
         "name": "",
         "orientation": "v",
         "showlegend": false,
         "type": "scatter",
         "x": [
          1,
          2,
          3,
          4,
          5,
          6,
          7,
          8,
          9,
          10
         ],
         "xaxis": "x",
         "y": [
          1094.0000000000002,
          451.5192164245342,
          277.96104172523303,
          211.22094025149246,
          172.18708629962325,
          150.9794368399773,
          131.4705470192416,
          116.05147816000522,
          102.52871966580958,
          91.09264401553529
         ],
         "yaxis": "y"
        }
       ],
       "layout": {
        "legend": {
         "tracegroupgap": 0
        },
        "margin": {
         "t": 60
        },
        "template": {
         "data": {
          "bar": [
           {
            "error_x": {
             "color": "#2a3f5f"
            },
            "error_y": {
             "color": "#2a3f5f"
            },
            "marker": {
             "line": {
              "color": "#E5ECF6",
              "width": 0.5
             },
             "pattern": {
              "fillmode": "overlay",
              "size": 10,
              "solidity": 0.2
             }
            },
            "type": "bar"
           }
          ],
          "barpolar": [
           {
            "marker": {
             "line": {
              "color": "#E5ECF6",
              "width": 0.5
             },
             "pattern": {
              "fillmode": "overlay",
              "size": 10,
              "solidity": 0.2
             }
            },
            "type": "barpolar"
           }
          ],
          "carpet": [
           {
            "aaxis": {
             "endlinecolor": "#2a3f5f",
             "gridcolor": "white",
             "linecolor": "white",
             "minorgridcolor": "white",
             "startlinecolor": "#2a3f5f"
            },
            "baxis": {
             "endlinecolor": "#2a3f5f",
             "gridcolor": "white",
             "linecolor": "white",
             "minorgridcolor": "white",
             "startlinecolor": "#2a3f5f"
            },
            "type": "carpet"
           }
          ],
          "choropleth": [
           {
            "colorbar": {
             "outlinewidth": 0,
             "ticks": ""
            },
            "type": "choropleth"
           }
          ],
          "contour": [
           {
            "colorbar": {
             "outlinewidth": 0,
             "ticks": ""
            },
            "colorscale": [
             [
              0,
              "#0d0887"
             ],
             [
              0.1111111111111111,
              "#46039f"
             ],
             [
              0.2222222222222222,
              "#7201a8"
             ],
             [
              0.3333333333333333,
              "#9c179e"
             ],
             [
              0.4444444444444444,
              "#bd3786"
             ],
             [
              0.5555555555555556,
              "#d8576b"
             ],
             [
              0.6666666666666666,
              "#ed7953"
             ],
             [
              0.7777777777777778,
              "#fb9f3a"
             ],
             [
              0.8888888888888888,
              "#fdca26"
             ],
             [
              1,
              "#f0f921"
             ]
            ],
            "type": "contour"
           }
          ],
          "contourcarpet": [
           {
            "colorbar": {
             "outlinewidth": 0,
             "ticks": ""
            },
            "type": "contourcarpet"
           }
          ],
          "heatmap": [
           {
            "colorbar": {
             "outlinewidth": 0,
             "ticks": ""
            },
            "colorscale": [
             [
              0,
              "#0d0887"
             ],
             [
              0.1111111111111111,
              "#46039f"
             ],
             [
              0.2222222222222222,
              "#7201a8"
             ],
             [
              0.3333333333333333,
              "#9c179e"
             ],
             [
              0.4444444444444444,
              "#bd3786"
             ],
             [
              0.5555555555555556,
              "#d8576b"
             ],
             [
              0.6666666666666666,
              "#ed7953"
             ],
             [
              0.7777777777777778,
              "#fb9f3a"
             ],
             [
              0.8888888888888888,
              "#fdca26"
             ],
             [
              1,
              "#f0f921"
             ]
            ],
            "type": "heatmap"
           }
          ],
          "heatmapgl": [
           {
            "colorbar": {
             "outlinewidth": 0,
             "ticks": ""
            },
            "colorscale": [
             [
              0,
              "#0d0887"
             ],
             [
              0.1111111111111111,
              "#46039f"
             ],
             [
              0.2222222222222222,
              "#7201a8"
             ],
             [
              0.3333333333333333,
              "#9c179e"
             ],
             [
              0.4444444444444444,
              "#bd3786"
             ],
             [
              0.5555555555555556,
              "#d8576b"
             ],
             [
              0.6666666666666666,
              "#ed7953"
             ],
             [
              0.7777777777777778,
              "#fb9f3a"
             ],
             [
              0.8888888888888888,
              "#fdca26"
             ],
             [
              1,
              "#f0f921"
             ]
            ],
            "type": "heatmapgl"
           }
          ],
          "histogram": [
           {
            "marker": {
             "pattern": {
              "fillmode": "overlay",
              "size": 10,
              "solidity": 0.2
             }
            },
            "type": "histogram"
           }
          ],
          "histogram2d": [
           {
            "colorbar": {
             "outlinewidth": 0,
             "ticks": ""
            },
            "colorscale": [
             [
              0,
              "#0d0887"
             ],
             [
              0.1111111111111111,
              "#46039f"
             ],
             [
              0.2222222222222222,
              "#7201a8"
             ],
             [
              0.3333333333333333,
              "#9c179e"
             ],
             [
              0.4444444444444444,
              "#bd3786"
             ],
             [
              0.5555555555555556,
              "#d8576b"
             ],
             [
              0.6666666666666666,
              "#ed7953"
             ],
             [
              0.7777777777777778,
              "#fb9f3a"
             ],
             [
              0.8888888888888888,
              "#fdca26"
             ],
             [
              1,
              "#f0f921"
             ]
            ],
            "type": "histogram2d"
           }
          ],
          "histogram2dcontour": [
           {
            "colorbar": {
             "outlinewidth": 0,
             "ticks": ""
            },
            "colorscale": [
             [
              0,
              "#0d0887"
             ],
             [
              0.1111111111111111,
              "#46039f"
             ],
             [
              0.2222222222222222,
              "#7201a8"
             ],
             [
              0.3333333333333333,
              "#9c179e"
             ],
             [
              0.4444444444444444,
              "#bd3786"
             ],
             [
              0.5555555555555556,
              "#d8576b"
             ],
             [
              0.6666666666666666,
              "#ed7953"
             ],
             [
              0.7777777777777778,
              "#fb9f3a"
             ],
             [
              0.8888888888888888,
              "#fdca26"
             ],
             [
              1,
              "#f0f921"
             ]
            ],
            "type": "histogram2dcontour"
           }
          ],
          "mesh3d": [
           {
            "colorbar": {
             "outlinewidth": 0,
             "ticks": ""
            },
            "type": "mesh3d"
           }
          ],
          "parcoords": [
           {
            "line": {
             "colorbar": {
              "outlinewidth": 0,
              "ticks": ""
             }
            },
            "type": "parcoords"
           }
          ],
          "pie": [
           {
            "automargin": true,
            "type": "pie"
           }
          ],
          "scatter": [
           {
            "fillpattern": {
             "fillmode": "overlay",
             "size": 10,
             "solidity": 0.2
            },
            "type": "scatter"
           }
          ],
          "scatter3d": [
           {
            "line": {
             "colorbar": {
              "outlinewidth": 0,
              "ticks": ""
             }
            },
            "marker": {
             "colorbar": {
              "outlinewidth": 0,
              "ticks": ""
             }
            },
            "type": "scatter3d"
           }
          ],
          "scattercarpet": [
           {
            "marker": {
             "colorbar": {
              "outlinewidth": 0,
              "ticks": ""
             }
            },
            "type": "scattercarpet"
           }
          ],
          "scattergeo": [
           {
            "marker": {
             "colorbar": {
              "outlinewidth": 0,
              "ticks": ""
             }
            },
            "type": "scattergeo"
           }
          ],
          "scattergl": [
           {
            "marker": {
             "colorbar": {
              "outlinewidth": 0,
              "ticks": ""
             }
            },
            "type": "scattergl"
           }
          ],
          "scattermapbox": [
           {
            "marker": {
             "colorbar": {
              "outlinewidth": 0,
              "ticks": ""
             }
            },
            "type": "scattermapbox"
           }
          ],
          "scatterpolar": [
           {
            "marker": {
             "colorbar": {
              "outlinewidth": 0,
              "ticks": ""
             }
            },
            "type": "scatterpolar"
           }
          ],
          "scatterpolargl": [
           {
            "marker": {
             "colorbar": {
              "outlinewidth": 0,
              "ticks": ""
             }
            },
            "type": "scatterpolargl"
           }
          ],
          "scatterternary": [
           {
            "marker": {
             "colorbar": {
              "outlinewidth": 0,
              "ticks": ""
             }
            },
            "type": "scatterternary"
           }
          ],
          "surface": [
           {
            "colorbar": {
             "outlinewidth": 0,
             "ticks": ""
            },
            "colorscale": [
             [
              0,
              "#0d0887"
             ],
             [
              0.1111111111111111,
              "#46039f"
             ],
             [
              0.2222222222222222,
              "#7201a8"
             ],
             [
              0.3333333333333333,
              "#9c179e"
             ],
             [
              0.4444444444444444,
              "#bd3786"
             ],
             [
              0.5555555555555556,
              "#d8576b"
             ],
             [
              0.6666666666666666,
              "#ed7953"
             ],
             [
              0.7777777777777778,
              "#fb9f3a"
             ],
             [
              0.8888888888888888,
              "#fdca26"
             ],
             [
              1,
              "#f0f921"
             ]
            ],
            "type": "surface"
           }
          ],
          "table": [
           {
            "cells": {
             "fill": {
              "color": "#EBF0F8"
             },
             "line": {
              "color": "white"
             }
            },
            "header": {
             "fill": {
              "color": "#C8D4E3"
             },
             "line": {
              "color": "white"
             }
            },
            "type": "table"
           }
          ]
         },
         "layout": {
          "annotationdefaults": {
           "arrowcolor": "#2a3f5f",
           "arrowhead": 0,
           "arrowwidth": 1
          },
          "autotypenumbers": "strict",
          "coloraxis": {
           "colorbar": {
            "outlinewidth": 0,
            "ticks": ""
           }
          },
          "colorscale": {
           "diverging": [
            [
             0,
             "#8e0152"
            ],
            [
             0.1,
             "#c51b7d"
            ],
            [
             0.2,
             "#de77ae"
            ],
            [
             0.3,
             "#f1b6da"
            ],
            [
             0.4,
             "#fde0ef"
            ],
            [
             0.5,
             "#f7f7f7"
            ],
            [
             0.6,
             "#e6f5d0"
            ],
            [
             0.7,
             "#b8e186"
            ],
            [
             0.8,
             "#7fbc41"
            ],
            [
             0.9,
             "#4d9221"
            ],
            [
             1,
             "#276419"
            ]
           ],
           "sequential": [
            [
             0,
             "#0d0887"
            ],
            [
             0.1111111111111111,
             "#46039f"
            ],
            [
             0.2222222222222222,
             "#7201a8"
            ],
            [
             0.3333333333333333,
             "#9c179e"
            ],
            [
             0.4444444444444444,
             "#bd3786"
            ],
            [
             0.5555555555555556,
             "#d8576b"
            ],
            [
             0.6666666666666666,
             "#ed7953"
            ],
            [
             0.7777777777777778,
             "#fb9f3a"
            ],
            [
             0.8888888888888888,
             "#fdca26"
            ],
            [
             1,
             "#f0f921"
            ]
           ],
           "sequentialminus": [
            [
             0,
             "#0d0887"
            ],
            [
             0.1111111111111111,
             "#46039f"
            ],
            [
             0.2222222222222222,
             "#7201a8"
            ],
            [
             0.3333333333333333,
             "#9c179e"
            ],
            [
             0.4444444444444444,
             "#bd3786"
            ],
            [
             0.5555555555555556,
             "#d8576b"
            ],
            [
             0.6666666666666666,
             "#ed7953"
            ],
            [
             0.7777777777777778,
             "#fb9f3a"
            ],
            [
             0.8888888888888888,
             "#fdca26"
            ],
            [
             1,
             "#f0f921"
            ]
           ]
          },
          "colorway": [
           "#636efa",
           "#EF553B",
           "#00cc96",
           "#ab63fa",
           "#FFA15A",
           "#19d3f3",
           "#FF6692",
           "#B6E880",
           "#FF97FF",
           "#FECB52"
          ],
          "font": {
           "color": "#2a3f5f"
          },
          "geo": {
           "bgcolor": "white",
           "lakecolor": "white",
           "landcolor": "#E5ECF6",
           "showlakes": true,
           "showland": true,
           "subunitcolor": "white"
          },
          "hoverlabel": {
           "align": "left"
          },
          "hovermode": "closest",
          "mapbox": {
           "style": "light"
          },
          "paper_bgcolor": "white",
          "plot_bgcolor": "#E5ECF6",
          "polar": {
           "angularaxis": {
            "gridcolor": "white",
            "linecolor": "white",
            "ticks": ""
           },
           "bgcolor": "#E5ECF6",
           "radialaxis": {
            "gridcolor": "white",
            "linecolor": "white",
            "ticks": ""
           }
          },
          "scene": {
           "xaxis": {
            "backgroundcolor": "#E5ECF6",
            "gridcolor": "white",
            "gridwidth": 2,
            "linecolor": "white",
            "showbackground": true,
            "ticks": "",
            "zerolinecolor": "white"
           },
           "yaxis": {
            "backgroundcolor": "#E5ECF6",
            "gridcolor": "white",
            "gridwidth": 2,
            "linecolor": "white",
            "showbackground": true,
            "ticks": "",
            "zerolinecolor": "white"
           },
           "zaxis": {
            "backgroundcolor": "#E5ECF6",
            "gridcolor": "white",
            "gridwidth": 2,
            "linecolor": "white",
            "showbackground": true,
            "ticks": "",
            "zerolinecolor": "white"
           }
          },
          "shapedefaults": {
           "line": {
            "color": "#2a3f5f"
           }
          },
          "ternary": {
           "aaxis": {
            "gridcolor": "white",
            "linecolor": "white",
            "ticks": ""
           },
           "baxis": {
            "gridcolor": "white",
            "linecolor": "white",
            "ticks": ""
           },
           "bgcolor": "#E5ECF6",
           "caxis": {
            "gridcolor": "white",
            "linecolor": "white",
            "ticks": ""
           }
          },
          "title": {
           "x": 0.05
          },
          "xaxis": {
           "automargin": true,
           "gridcolor": "white",
           "linecolor": "white",
           "ticks": "",
           "title": {
            "standoff": 15
           },
           "zerolinecolor": "white",
           "zerolinewidth": 2
          },
          "yaxis": {
           "automargin": true,
           "gridcolor": "white",
           "linecolor": "white",
           "ticks": "",
           "title": {
            "standoff": 15
           },
           "zerolinecolor": "white",
           "zerolinewidth": 2
          }
         }
        },
        "xaxis": {
         "anchor": "y",
         "domain": [
          0,
          1
         ],
         "title": {
          "text": "x"
         }
        },
        "yaxis": {
         "anchor": "x",
         "domain": [
          0,
          1
         ],
         "title": {
          "text": "y"
         }
        }
       }
      }
     },
     "metadata": {},
     "output_type": "display_data"
    }
   ],
   "source": [
    "# Plotting WCSS values\n",
    "plot = px.line(x= range(1,11), y= wcss_salary)\n",
    "plot.show()"
   ]
  },
  {
   "cell_type": "code",
   "execution_count": 52,
   "metadata": {},
   "outputs": [],
   "source": [
    "model_salary = KMeans(n_clusters=3, random_state=0, init='k-means++', n_init=10)\n",
    "labels_salary = model_salary.fit_predict(df_salary)\n",
    "centroids_salary = model_salary.cluster_centers_"
   ]
  },
  {
   "cell_type": "code",
   "execution_count": 53,
   "metadata": {},
   "outputs": [
    {
     "data": {
      "image/png": "[encoded data removed]",
      "text/plain": [
       "<Figure size 640x480 with 1 Axes>"
      ]
     },
     "metadata": {},
     "output_type": "display_data"
    }
   ],
   "source": [
    "plt.scatter(df_salary[:,0], df_salary[:,1], c=labels_salary)\n",
    "plt.scatter(centroids_salary[:, 0], centroids_salary[:, 1], c='red', marker='X', s=20)\n",
    "plt.title('Clusters and Centroids')\n",
    "plt.show()"
   ]
  },
  {
   "cell_type": "markdown",
   "metadata": {},
   "source": [
    "# 5. Questions & Answers\n",
    "In order answer the challenge questions, I'll have to cluster another dataset, `salary`, using KMeans. At this point you may be confused as why I'm using a serum cholesterol vs weight dataset, and why I merged them. The answer is they messed things up and now is up to me sort things out. Believe me, I'm as angry as you."
   ]
  },
  {
   "cell_type": "markdown",
   "metadata": {},
   "source": [
    "Q. 6 -- After applying the clustering algorithm, generate a statistic with the describe function for the cholesterol variable, grouping the results by cluster."
   ]
  },
  {
   "cell_type": "code",
   "execution_count": 56,
   "metadata": {},
   "outputs": [
    {
     "data": {
      "text/html": [
       "<div>\n",
       "<style scoped>\n",
       "    .dataframe tbody tr th:only-of-type {\n",
       "        vertical-align: middle;\n",
       "    }\n",
       "\n",
       "    .dataframe tbody tr th {\n",
       "        vertical-align: top;\n",
       "    }\n",
       "\n",
       "    .dataframe thead tr th {\n",
       "        text-align: left;\n",
       "    }\n",
       "\n",
       "    .dataframe thead tr:last-of-type th {\n",
       "        text-align: right;\n",
       "    }\n",
       "</style>\n",
       "<table border=\"1\" class=\"dataframe\">\n",
       "  <thead>\n",
       "    <tr>\n",
       "      <th></th>\n",
       "      <th colspan=\"8\" halign=\"left\">colesterol</th>\n",
       "      <th colspan=\"8\" halign=\"left\">peso</th>\n",
       "    </tr>\n",
       "    <tr>\n",
       "      <th></th>\n",
       "      <th>count</th>\n",
       "      <th>mean</th>\n",
       "      <th>std</th>\n",
       "      <th>min</th>\n",
       "      <th>25%</th>\n",
       "      <th>50%</th>\n",
       "      <th>75%</th>\n",
       "      <th>max</th>\n",
       "      <th>count</th>\n",
       "      <th>mean</th>\n",
       "      <th>std</th>\n",
       "      <th>min</th>\n",
       "      <th>25%</th>\n",
       "      <th>50%</th>\n",
       "      <th>75%</th>\n",
       "      <th>max</th>\n",
       "    </tr>\n",
       "    <tr>\n",
       "      <th>cluster</th>\n",
       "      <th></th>\n",
       "      <th></th>\n",
       "      <th></th>\n",
       "      <th></th>\n",
       "      <th></th>\n",
       "      <th></th>\n",
       "      <th></th>\n",
       "      <th></th>\n",
       "      <th></th>\n",
       "      <th></th>\n",
       "      <th></th>\n",
       "      <th></th>\n",
       "      <th></th>\n",
       "      <th></th>\n",
       "      <th></th>\n",
       "      <th></th>\n",
       "    </tr>\n",
       "  </thead>\n",
       "  <tbody>\n",
       "    <tr>\n",
       "      <th>Beginner</th>\n",
       "      <td>148.0</td>\n",
       "      <td>170.844595</td>\n",
       "      <td>40.390730</td>\n",
       "      <td>102.0</td>\n",
       "      <td>135.00</td>\n",
       "      <td>169.0</td>\n",
       "      <td>208.25</td>\n",
       "      <td>235.0</td>\n",
       "      <td>148.0</td>\n",
       "      <td>143.939189</td>\n",
       "      <td>31.212292</td>\n",
       "      <td>97.0</td>\n",
       "      <td>116.75</td>\n",
       "      <td>140.0</td>\n",
       "      <td>171.5</td>\n",
       "      <td>203.0</td>\n",
       "    </tr>\n",
       "    <tr>\n",
       "      <th>Intermediate</th>\n",
       "      <td>153.0</td>\n",
       "      <td>167.633987</td>\n",
       "      <td>36.799376</td>\n",
       "      <td>102.0</td>\n",
       "      <td>142.00</td>\n",
       "      <td>164.0</td>\n",
       "      <td>199.00</td>\n",
       "      <td>235.0</td>\n",
       "      <td>153.0</td>\n",
       "      <td>141.111111</td>\n",
       "      <td>29.155110</td>\n",
       "      <td>96.0</td>\n",
       "      <td>119.00</td>\n",
       "      <td>134.0</td>\n",
       "      <td>166.0</td>\n",
       "      <td>203.0</td>\n",
       "    </tr>\n",
       "    <tr>\n",
       "      <th>Experienced</th>\n",
       "      <td>246.0</td>\n",
       "      <td>171.926829</td>\n",
       "      <td>39.862963</td>\n",
       "      <td>102.0</td>\n",
       "      <td>133.25</td>\n",
       "      <td>173.0</td>\n",
       "      <td>211.00</td>\n",
       "      <td>234.0</td>\n",
       "      <td>246.0</td>\n",
       "      <td>144.520325</td>\n",
       "      <td>31.359495</td>\n",
       "      <td>95.0</td>\n",
       "      <td>115.00</td>\n",
       "      <td>143.0</td>\n",
       "      <td>172.0</td>\n",
       "      <td>203.0</td>\n",
       "    </tr>\n",
       "  </tbody>\n",
       "</table>\n",
       "</div>"
      ],
      "text/plain": [
       "             colesterol                                                       \\\n",
       "                  count        mean        std    min     25%    50%     75%   \n",
       "cluster                                                                        \n",
       "Beginner          148.0  170.844595  40.390730  102.0  135.00  169.0  208.25   \n",
       "Intermediate      153.0  167.633987  36.799376  102.0  142.00  164.0  199.00   \n",
       "Experienced       246.0  171.926829  39.862963  102.0  133.25  173.0  211.00   \n",
       "\n",
       "                      peso                                                     \\\n",
       "                max  count        mean        std   min     25%    50%    75%   \n",
       "cluster                                                                         \n",
       "Beginner      235.0  148.0  143.939189  31.212292  97.0  116.75  140.0  171.5   \n",
       "Intermediate  235.0  153.0  141.111111  29.155110  96.0  119.00  134.0  166.0   \n",
       "Experienced   234.0  246.0  144.520325  31.359495  95.0  115.00  143.0  172.0   \n",
       "\n",
       "                     \n",
       "                max  \n",
       "cluster              \n",
       "Beginner      203.0  \n",
       "Intermediate  203.0  \n",
       "Experienced   203.0  "
      ]
     },
     "metadata": {},
     "output_type": "display_data"
    }
   ],
   "source": [
    "# Creating the labels column\n",
    "final_df['cluster'] = labels_salary\n",
    "\n",
    "# Renaming labels\n",
    "label_mapping = {0:'Beginner', 1:'Intermediate', 2:'Experienced'}\n",
    "\n",
    "final_df['cluster'] = final_df['cluster'].replace(label_mapping)\n",
    "\n",
    "# Fixing dtype\n",
    "final_df['cluster'] = pd.Categorical(final_df['cluster'], categories=['Beginner', 'Intermediate', 'Experienced'], ordered=True)\n",
    "\n",
    "# Grouping by clusters and applying stats\n",
    "clustered_stats = final_df.groupby('cluster')[['colesterol', 'peso']].describe()\n",
    "display(clustered_stats)"
   ]
  },
  {
   "cell_type": "markdown",
   "metadata": {},
   "source": [
    "Q. 7 -- Generate a boxplot diagram filtering for all female genders from the created database and indicate the result for the salary variable and the cluster name."
   ]
  },
  {
   "cell_type": "code",
   "execution_count": 63,
   "metadata": {},
   "outputs": [
    {
     "data": {
      "image/png": "[encoded data removed]",
      "text/plain": [
       "<Figure size 1000x600 with 1 Axes>"
      ]
     },
     "metadata": {},
     "output_type": "display_data"
    }
   ],
   "source": [
    "# Filtering for genre = Feminino\n",
    "df_feminino = final_df[final_df['genero'] == 'Feminino']\n",
    "\n",
    "# Making a boxplot for 'salario' by 'cluster' \n",
    "plt.figure(figsize=(10, 6))\n",
    "sns.boxplot(x='salario', y='cluster', data=df_feminino)\n",
    "\n",
    "plt.title('Boxplot of Salary by Cluster for Women')\n",
    "plt.ylabel('Cluster')\n",
    "plt.xlabel('Salary')\n",
    "\n",
    "plt.show()"
   ]
  },
  {
   "cell_type": "markdown",
   "metadata": {},
   "source": [
    "Q. 8 -- How many females are in the Intermediate cluster?"
   ]
  },
  {
   "cell_type": "code",
   "execution_count": 66,
   "metadata": {},
   "outputs": [
    {
     "name": "stdout",
     "output_type": "stream",
     "text": [
      "Number of females in the Intermediate cluster: 80\n"
     ]
    }
   ],
   "source": [
    "# Counting the number of females in the Intermediate cluster\n",
    "num_females_intermediate = final_df[(final_df['genero'] == 'Feminino') & (final_df['cluster'] == 'Intermediate')].shape[0]\n",
    "\n",
    "print(f\"Number of females in the Intermediate cluster: {num_females_intermediate}\")\n"
   ]
  },
  {
   "cell_type": "markdown",
   "metadata": {},
   "source": [
    "Q. 9 -- Which state has the highest number of people in the Experienced cluster?"
   ]
  },
  {
   "cell_type": "code",
   "execution_count": 67,
   "metadata": {},
   "outputs": [
    {
     "name": "stdout",
     "output_type": "stream",
     "text": [
      "The state with the highest number of people in the Experienced cluster is: Distrito Federal\n"
     ]
    }
   ],
   "source": [
    "# Finding the state with the highest number of people in the Experienced cluster\n",
    "state_counts = final_df[final_df['cluster'] == 'Experienced']['estado'].value_counts()\n",
    "state_with_most_experienced = state_counts.idxmax()\n",
    "\n",
    "print(f\"The state with the highest number of people in the Experienced cluster is: {state_with_most_experienced}\")\n"
   ]
  },
  {
   "cell_type": "markdown",
   "metadata": {},
   "source": [
    "Q. 10 -- What is the third state with the highest average cholesterol level?"
   ]
  },
  {
   "cell_type": "code",
   "execution_count": 68,
   "metadata": {},
   "outputs": [
    {
     "name": "stdout",
     "output_type": "stream",
     "text": [
      "The third state with the highest average cholesterol level is: Pernambuco\n"
     ]
    }
   ],
   "source": [
    "# Calculating the average cholesterol level by state and finding the third highest\n",
    "average_cholesterol_by_state = final_df.groupby('estado')['colesterol'].mean()\n",
    "third_highest_cholesterol_state = average_cholesterol_by_state.sort_values(ascending=False).index[2]\n",
    "\n",
    "print(f\"The third state with the highest average cholesterol level is: {third_highest_cholesterol_state}\")\n"
   ]
  },
  {
   "cell_type": "markdown",
   "metadata": {},
   "source": [
    "Q. 11 -- Filter the DataFrame for all females in the Beginner cluster and then create a histogram with the weight variable for this subset of data. Use 15 bars in the representation of the graph"
   ]
  },
  {
   "cell_type": "code",
   "execution_count": 70,
   "metadata": {},
   "outputs": [
    {
     "data": {
      "image/png": "[encoded data removed]",
      "text/plain": [
       "<Figure size 1000x600 with 1 Axes>"
      ]
     },
     "metadata": {},
     "output_type": "display_data"
    }
   ],
   "source": [
    "# Filtering the DataFrame for females in the Beginner cluster\n",
    "female_beginner_df = final_df[(final_df['genero'] == 'Feminino') & (final_df['cluster'] == 'Beginner')]\n",
    "\n",
    "# Creating a histogram for the 'weight' variable\n",
    "plt.figure(figsize=(10, 6))\n",
    "plt.hist(female_beginner_df['peso'], bins=15, edgecolor='black')\n",
    "\n",
    "plt.title('Weight Distribution of Females in the Beginner Cluster')\n",
    "plt.xlabel('Weight')\n",
    "plt.ylabel('Frequency')\n",
    "\n",
    "plt.show()\n"
   ]
  }
 ],
 "metadata": {
  "kernelspec": {
   "display_name": "Python 3",
   "language": "python",
   "name": "python3"
  },
  "language_info": {
   "codemirror_mode": {
    "name": "ipython",
    "version": 3
   },
   "file_extension": ".py",
   "mimetype": "text/x-python",
   "name": "python",
   "nbconvert_exporter": "python",
   "pygments_lexer": "ipython3",
   "version": "3.11.4"
  }
 },
 "nbformat": 4,
 "nbformat_minor": 2
}
